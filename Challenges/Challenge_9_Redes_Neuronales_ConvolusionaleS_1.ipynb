{
 "cells": [
  {
   "cell_type": "markdown",
   "metadata": {},
   "source": [
    "**Challenge 9: Redes Neuronales Convolusionales**\\\n",
    "Leonardo Sandoval Carranza"
   ]
  },
  {
   "cell_type": "code",
   "execution_count": 15,
   "metadata": {},
   "outputs": [],
   "source": [
    "#Importamos librerias. \n",
    "import os\n",
    "import tifffile as tiff\n",
    "import matplotlib.pyplot as plt\n",
    "import tensorflow as tf\n",
    "from tensorflow.keras import layers, models\n",
    "from sklearn.model_selection import train_test_split\n",
    "import numpy as np\n"
   ]
  },
  {
   "cell_type": "markdown",
   "metadata": {},
   "source": [
    "Importamos una serie de imagenes de una database de imagenes dentales. Estas son imagenes de tomografia computarizada obtenidas de un detector plano para colectar el haz de rayos X emitido. \n",
    "\n",
    "Database: https://physionet.org/content/multimodal-dental-dataset/1.0.0/\n",
    "\n",
    "El database pertenece a 389 pacientes diferentes. Para cada paciente, puede haber varios archivos si tuvo varias visitas. Estos archivos CBCT reciben nombres según la identificación del paciente y se ordenan según la fecha de visita con un sufijo. Por ejemplo, \"0021_0\" indica los datos de la primera visita del paciente con ID 21, mientras que \"0021_1\" representa los datos de su segunda visita.\n",
    "\n",
    "Haremos uso de PeX-ray de la base de datos la cual contiene 333 archivos. Cada una de las carpetas contiene tres subcarpetas: izquierda, central y derecha, que representan tres ángulos diferentes de exposición a la luz. La carpeta \"izquierda\" corresponde a una desviación hacia la izquierda de 20-25 grados, la carpeta \"intermedia\" corresponde a una desviación hacia la izquierda de 5-10 grados y la carpeta \"derecha\" corresponde a una desviación hacia la derecha de 20-25 grados. Dentro de cada una de estas carpetas, las radiografías periapicales de cada diente se almacenan en formato TIFF. El primer dígito indica si se trata de una imagen de la mandíbula superior o inferior, donde 0 representa la mandíbula inferior y 1 representa la mandíbula superior. El segundo dígito representa el número de diente específico. Por ejemplo, 0_0.tif representa la radiografía periapical del primer diente de la mandíbula inferior.\n",
    "\n",
    "En este caso use al paciente 0008_0 (paciente 8 en su unica visita) y analice la exposicion a la luz a la izquierda y derecha sobre toda la mandibula (superior e inferior). \n"
   ]
  },
  {
   "cell_type": "code",
   "execution_count": 16,
   "metadata": {},
   "outputs": [
    {
     "name": "stdout",
     "output_type": "stream",
     "text": [
      "(120, 160)\n"
     ]
    },
    {
     "data": {
      "image/png": "[encoded data removed]",
      "text/plain": [
       "<Figure size 640x480 with 1 Axes>"
      ]
     },
     "metadata": {},
     "output_type": "display_data"
    }
   ],
   "source": [
    "#Importamos las imagenes. \n",
    "\n",
    "def leer_imagenes_tiff(ruta_carpeta):\n",
    "    imagenes = []\n",
    "    for archivo in os.listdir(ruta_carpeta):\n",
    "        if archivo.endswith(\".tif\"):\n",
    "            ruta_imagen = os.path.join(ruta_carpeta, archivo)\n",
    "            imagen = tiff.imread(ruta_imagen)\n",
    "            imagenes.append(imagen)\n",
    "\n",
    "    return imagenes\n",
    "\n",
    "ruta_carpeta_left = \"C:\\\\Users\\\\HP\\\\Desktop\\\\Noveno_ciclo\\\\reconocimiento_patrones\\\\Challenge_redes_neuronales\\\\PeX-ray_008_0_left\"\n",
    "ruta_carpeta_right = \"C:\\\\Users\\\\HP\\\\Desktop\\\\Noveno_ciclo\\\\reconocimiento_patrones\\\\Challenge_redes_neuronales\\\\PeX-ray_008_0_right\"\n",
    "\n",
    "imagenes_left = leer_imagenes_tiff(ruta_carpeta_left)\n",
    "imagenes_right = leer_imagenes_tiff(ruta_carpeta_right)\n",
    "\n",
    "plt.figure\n",
    "plt.imshow(imagenes_left[0],cmap=\"gray\")\n",
    "print(imagenes_left[0].shape)"
   ]
  },
  {
   "cell_type": "code",
   "execution_count": null,
   "metadata": {},
   "outputs": [],
   "source": [
    "\n"
   ]
  },
  {
   "cell_type": "code",
   "execution_count": 17,
   "metadata": {},
   "outputs": [
    {
     "name": "stderr",
     "output_type": "stream",
     "text": [
      "c:\\Users\\HP\\AppData\\Local\\Programs\\Python\\Python311\\Lib\\site-packages\\keras\\src\\layers\\convolutional\\base_conv.py:107: UserWarning: Do not pass an `input_shape`/`input_dim` argument to a layer. When using Sequential models, prefer using an `Input(shape)` object as the first layer in the model instead.\n",
      "  super().__init__(activity_regularizer=activity_regularizer, **kwargs)\n"
     ]
    }
   ],
   "source": [
    "\n",
    "model = models.Sequential() #Creacion secuencial, para acoplar las capas.\n",
    "#Convolusion. \n",
    "model.add(layers.Conv2D(32,(3,3),activation=\"relu\",input_shape=(120,160,1)))\n",
    "#Añade capa de maxpooling\n",
    "model.add(layers.MaxPooling2D(2,2))\n",
    "#Convolusion. \n",
    "model.add(layers.Conv2D(16,(3,3),activation=\"relu\"))\n",
    "#Capa de maxpooling\n",
    "model.add(layers.MaxPooling2D(2,2))\n",
    "#Convolusion. \n",
    "model.add(layers.Conv2D(8,(3,3),activation=\"relu\"))\n",
    "#Aplanado de la capa. \n",
    "model.add(layers.Flatten())\n",
    "    #Creacion de la primera capa, la entrada tendra la forma de la imagen, su activacion es Relu ideal para evitar la saturacion al inicio.\n",
    "    #Creacion de la segunda capa, su activacion es Relu ideal para evitar la saturacion al inicio.\n",
    "model.add(layers.Dense(64, activation='relu'))\n",
    "    #Creacion de la segunda capa, su activacion es Relu ideal para evitar la saturacion al inicio.\n",
    "model.add(layers.Dense(32, activation='relu'))\n",
    "    #Creacion de la tercera capa, su activacion es softmax para la clasificacion.  \n",
    "model.add(layers.Dense(10, activation='softmax'))\n"
   ]
  },
  {
   "cell_type": "code",
   "execution_count": 18,
   "metadata": {},
   "outputs": [],
   "source": [
    "model.compile(optimizer='rmsprop',\n",
    "              loss='categorical_crossentropy',\n",
    "              metrics=['accuracy'])\n",
    "\n",
    "#Optimizador RMS prop para clasificacion. \n",
    "#Funcion perdida de enropia.\n",
    "#Metrica principal es la precision. "
   ]
  },
  {
   "cell_type": "code",
   "execution_count": 19,
   "metadata": {},
   "outputs": [],
   "source": [
    "from sklearn.preprocessing import LabelEncoder\n",
    "\n",
    "#Obtenemos las imagenes y las listas. \n",
    "imagenes = imagenes_left + imagenes_right; etiquetas = ['left'] * len(imagenes_left) + ['right'] * len(imagenes_right)\n",
    "imagenes = np.array(imagenes); etiquetas = np.array(etiquetas)"
   ]
  },
  {
   "cell_type": "code",
   "execution_count": 20,
   "metadata": {},
   "outputs": [],
   "source": [
    "\n",
    "# Dividimos en prueba y testeo con un 20% de test size.\n",
    "X_train, X_test, y_train, y_test = train_test_split(imagenes, etiquetas, test_size=0.2, random_state=42)"
   ]
  },
  {
   "cell_type": "code",
   "execution_count": 21,
   "metadata": {},
   "outputs": [],
   "source": [
    "# Codificar las etiquetas como enteros\n",
    "label_encoder = LabelEncoder();y_train_encoded = label_encoder.fit_transform(y_train); y_test_encoded = label_encoder.transform(y_test)\n"
   ]
  },
  {
   "cell_type": "code",
   "execution_count": 22,
   "metadata": {},
   "outputs": [
    {
     "name": "stdout",
     "output_type": "stream",
     "text": [
      "Epoch 1/100\n",
      "\u001b[1m2/2\u001b[0m \u001b[32m━━━━━━━━━━━━━━━━━━━━\u001b[0m\u001b[37m\u001b[0m \u001b[1m4s\u001b[0m 784ms/step - accuracy: 0.1046 - loss: 62.9804 - val_accuracy: 0.5385 - val_loss: 9.6557\n",
      "Epoch 2/100\n",
      "\u001b[1m2/2\u001b[0m \u001b[32m━━━━━━━━━━━━━━━━━━━━\u001b[0m\u001b[37m\u001b[0m \u001b[1m0s\u001b[0m 219ms/step - accuracy: 0.5039 - loss: 7.2642 - val_accuracy: 0.5385 - val_loss: 3.1266\n",
      "Epoch 3/100\n",
      "\u001b[1m2/2\u001b[0m \u001b[32m━━━━━━━━━━━━━━━━━━━━\u001b[0m\u001b[37m\u001b[0m \u001b[1m0s\u001b[0m 179ms/step - accuracy: 0.5927 - loss: 2.3929 - val_accuracy: 0.5385 - val_loss: 1.3262\n",
      "Epoch 4/100\n",
      "\u001b[1m2/2\u001b[0m \u001b[32m━━━━━━━━━━━━━━━━━━━━\u001b[0m\u001b[37m\u001b[0m \u001b[1m0s\u001b[0m 201ms/step - accuracy: 0.5092 - loss: 1.2833 - val_accuracy: 0.6154 - val_loss: 0.7221\n",
      "Epoch 5/100\n",
      "\u001b[1m2/2\u001b[0m \u001b[32m━━━━━━━━━━━━━━━━━━━━\u001b[0m\u001b[37m\u001b[0m \u001b[1m1s\u001b[0m 258ms/step - accuracy: 0.5143 - loss: 0.7616 - val_accuracy: 0.6154 - val_loss: 0.7293\n",
      "Epoch 6/100\n",
      "\u001b[1m2/2\u001b[0m \u001b[32m━━━━━━━━━━━━━━━━━━━━\u001b[0m\u001b[37m\u001b[0m \u001b[1m1s\u001b[0m 242ms/step - accuracy: 0.6632 - loss: 0.6971 - val_accuracy: 0.5385 - val_loss: 0.6181\n",
      "Epoch 7/100\n",
      "\u001b[1m2/2\u001b[0m \u001b[32m━━━━━━━━━━━━━━━━━━━━\u001b[0m\u001b[37m\u001b[0m \u001b[1m1s\u001b[0m 184ms/step - accuracy: 0.6971 - loss: 0.5509 - val_accuracy: 0.6923 - val_loss: 0.6202\n",
      "Epoch 8/100\n",
      "\u001b[1m2/2\u001b[0m \u001b[32m━━━━━━━━━━━━━━━━━━━━\u001b[0m\u001b[37m\u001b[0m \u001b[1m0s\u001b[0m 180ms/step - accuracy: 0.7206 - loss: 0.4888 - val_accuracy: 0.6923 - val_loss: 0.7503\n",
      "Epoch 9/100\n",
      "\u001b[1m2/2\u001b[0m \u001b[32m━━━━━━━━━━━━━━━━━━━━\u001b[0m\u001b[37m\u001b[0m \u001b[1m0s\u001b[0m 202ms/step - accuracy: 0.7571 - loss: 0.4939 - val_accuracy: 0.6154 - val_loss: 0.5310\n",
      "Epoch 10/100\n",
      "\u001b[1m2/2\u001b[0m \u001b[32m━━━━━━━━━━━━━━━━━━━━\u001b[0m\u001b[37m\u001b[0m \u001b[1m0s\u001b[0m 193ms/step - accuracy: 0.7414 - loss: 0.4953 - val_accuracy: 0.5385 - val_loss: 0.8011\n",
      "Epoch 11/100\n",
      "\u001b[1m2/2\u001b[0m \u001b[32m━━━━━━━━━━━━━━━━━━━━\u001b[0m\u001b[37m\u001b[0m \u001b[1m1s\u001b[0m 239ms/step - accuracy: 0.6920 - loss: 0.6744 - val_accuracy: 0.6154 - val_loss: 0.5565\n",
      "Epoch 12/100\n",
      "\u001b[1m2/2\u001b[0m \u001b[32m━━━━━━━━━━━━━━━━━━━━\u001b[0m\u001b[37m\u001b[0m \u001b[1m1s\u001b[0m 253ms/step - accuracy: 0.8303 - loss: 0.3880 - val_accuracy: 0.7692 - val_loss: 0.4823\n",
      "Epoch 13/100\n",
      "\u001b[1m2/2\u001b[0m \u001b[32m━━━━━━━━━━━━━━━━━━━━\u001b[0m\u001b[37m\u001b[0m \u001b[1m1s\u001b[0m 252ms/step - accuracy: 0.8538 - loss: 0.3539 - val_accuracy: 0.5385 - val_loss: 1.0603\n",
      "Epoch 14/100\n",
      "\u001b[1m2/2\u001b[0m \u001b[32m━━━━━━━━━━━━━━━━━━━━\u001b[0m\u001b[37m\u001b[0m \u001b[1m0s\u001b[0m 201ms/step - accuracy: 0.6920 - loss: 0.5212 - val_accuracy: 0.8462 - val_loss: 0.3832\n",
      "Epoch 15/100\n",
      "\u001b[1m2/2\u001b[0m \u001b[32m━━━━━━━━━━━━━━━━━━━━\u001b[0m\u001b[37m\u001b[0m \u001b[1m0s\u001b[0m 207ms/step - accuracy: 0.8668 - loss: 0.3379 - val_accuracy: 0.5385 - val_loss: 0.6873\n",
      "Epoch 16/100\n",
      "\u001b[1m2/2\u001b[0m \u001b[32m━━━━━━━━━━━━━━━━━━━━\u001b[0m\u001b[37m\u001b[0m \u001b[1m1s\u001b[0m 204ms/step - accuracy: 0.9034 - loss: 0.2799 - val_accuracy: 0.6923 - val_loss: 0.6564\n",
      "Epoch 17/100\n",
      "\u001b[1m2/2\u001b[0m \u001b[32m━━━━━━━━━━━━━━━━━━━━\u001b[0m\u001b[37m\u001b[0m \u001b[1m0s\u001b[0m 188ms/step - accuracy: 0.8199 - loss: 0.3509 - val_accuracy: 0.7692 - val_loss: 0.4124\n",
      "Epoch 18/100\n",
      "\u001b[1m2/2\u001b[0m \u001b[32m━━━━━━━━━━━━━━━━━━━━\u001b[0m\u001b[37m\u001b[0m \u001b[1m0s\u001b[0m 210ms/step - accuracy: 0.7964 - loss: 0.4124 - val_accuracy: 0.7692 - val_loss: 0.4036\n",
      "Epoch 19/100\n",
      "\u001b[1m2/2\u001b[0m \u001b[32m━━━━━━━━━━━━━━━━━━━━\u001b[0m\u001b[37m\u001b[0m \u001b[1m0s\u001b[0m 199ms/step - accuracy: 0.8799 - loss: 0.2520 - val_accuracy: 0.6923 - val_loss: 0.5490\n",
      "Epoch 20/100\n",
      "\u001b[1m2/2\u001b[0m \u001b[32m━━━━━━━━━━━━━━━━━━━━\u001b[0m\u001b[37m\u001b[0m \u001b[1m0s\u001b[0m 213ms/step - accuracy: 0.8199 - loss: 0.3293 - val_accuracy: 0.5385 - val_loss: 1.2126\n",
      "Epoch 21/100\n",
      "\u001b[1m2/2\u001b[0m \u001b[32m━━━━━━━━━━━━━━━━━━━━\u001b[0m\u001b[37m\u001b[0m \u001b[1m1s\u001b[0m 264ms/step - accuracy: 0.6998 - loss: 0.5657 - val_accuracy: 0.5385 - val_loss: 1.0435\n",
      "Epoch 22/100\n",
      "\u001b[1m2/2\u001b[0m \u001b[32m━━━━━━━━━━━━━━━━━━━━\u001b[0m\u001b[37m\u001b[0m \u001b[1m1s\u001b[0m 234ms/step - accuracy: 0.5743 - loss: 2.0081 - val_accuracy: 0.4615 - val_loss: 15.9420\n",
      "Epoch 23/100\n",
      "\u001b[1m2/2\u001b[0m \u001b[32m━━━━━━━━━━━━━━━━━━━━\u001b[0m\u001b[37m\u001b[0m \u001b[1m1s\u001b[0m 251ms/step - accuracy: 0.5065 - loss: 11.4297 - val_accuracy: 0.5385 - val_loss: 1.2094\n",
      "Epoch 24/100\n",
      "\u001b[1m2/2\u001b[0m \u001b[32m━━━━━━━━━━━━━━━━━━━━\u001b[0m\u001b[37m\u001b[0m \u001b[1m0s\u001b[0m 195ms/step - accuracy: 0.6605 - loss: 1.1679 - val_accuracy: 0.6154 - val_loss: 0.9941\n",
      "Epoch 25/100\n",
      "\u001b[1m2/2\u001b[0m \u001b[32m━━━━━━━━━━━━━━━━━━━━\u001b[0m\u001b[37m\u001b[0m \u001b[1m0s\u001b[0m 195ms/step - accuracy: 0.7467 - loss: 0.8686 - val_accuracy: 0.6154 - val_loss: 0.9140\n",
      "Epoch 26/100\n",
      "\u001b[1m2/2\u001b[0m \u001b[32m━━━━━━━━━━━━━━━━━━━━\u001b[0m\u001b[37m\u001b[0m \u001b[1m0s\u001b[0m 231ms/step - accuracy: 0.8172 - loss: 0.7318 - val_accuracy: 0.6154 - val_loss: 0.6304\n",
      "Epoch 27/100\n",
      "\u001b[1m2/2\u001b[0m \u001b[32m━━━━━━━━━━━━━━━━━━━━\u001b[0m\u001b[37m\u001b[0m \u001b[1m0s\u001b[0m 230ms/step - accuracy: 0.7232 - loss: 0.4789 - val_accuracy: 0.5385 - val_loss: 0.5365\n",
      "Epoch 28/100\n",
      "\u001b[1m2/2\u001b[0m \u001b[32m━━━━━━━━━━━━━━━━━━━━\u001b[0m\u001b[37m\u001b[0m \u001b[1m0s\u001b[0m 202ms/step - accuracy: 0.8511 - loss: 0.3452 - val_accuracy: 0.6923 - val_loss: 0.7247\n",
      "Epoch 29/100\n",
      "\u001b[1m2/2\u001b[0m \u001b[32m━━━━━━━━━━━━━━━━━━━━\u001b[0m\u001b[37m\u001b[0m \u001b[1m1s\u001b[0m 246ms/step - accuracy: 0.7806 - loss: 0.3976 - val_accuracy: 0.7692 - val_loss: 0.4633\n",
      "Epoch 30/100\n",
      "\u001b[1m2/2\u001b[0m \u001b[32m━━━━━━━━━━━━━━━━━━━━\u001b[0m\u001b[37m\u001b[0m \u001b[1m1s\u001b[0m 242ms/step - accuracy: 0.7859 - loss: 0.3641 - val_accuracy: 0.6923 - val_loss: 0.5239\n",
      "Epoch 31/100\n",
      "\u001b[1m2/2\u001b[0m \u001b[32m━━━━━━━━━━━━━━━━━━━━\u001b[0m\u001b[37m\u001b[0m \u001b[1m0s\u001b[0m 206ms/step - accuracy: 0.8903 - loss: 0.2369 - val_accuracy: 0.7692 - val_loss: 0.4051\n",
      "Epoch 32/100\n",
      "\u001b[1m2/2\u001b[0m \u001b[32m━━━━━━━━━━━━━━━━━━━━\u001b[0m\u001b[37m\u001b[0m \u001b[1m0s\u001b[0m 206ms/step - accuracy: 0.9034 - loss: 0.2228 - val_accuracy: 0.7692 - val_loss: 0.5842\n",
      "Epoch 33/100\n",
      "\u001b[1m2/2\u001b[0m \u001b[32m━━━━━━━━━━━━━━━━━━━━\u001b[0m\u001b[37m\u001b[0m \u001b[1m0s\u001b[0m 202ms/step - accuracy: 0.9138 - loss: 0.1945 - val_accuracy: 0.6923 - val_loss: 0.9307\n",
      "Epoch 34/100\n",
      "\u001b[1m2/2\u001b[0m \u001b[32m━━━━━━━━━━━━━━━━━━━━\u001b[0m\u001b[37m\u001b[0m \u001b[1m0s\u001b[0m 213ms/step - accuracy: 0.7390 - loss: 0.4812 - val_accuracy: 0.7692 - val_loss: 0.5504\n",
      "Epoch 34: early stopping\n",
      "Restoring model weights from the end of the best epoch: 14.\n",
      "\u001b[1m1/1\u001b[0m \u001b[32m━━━━━━━━━━━━━━━━━━━━\u001b[0m\u001b[37m\u001b[0m \u001b[1m0s\u001b[0m 132ms/step - accuracy: 0.8462 - loss: 0.3832\n",
      "Test accuracy: 0.8461538553237915\n"
     ]
    }
   ],
   "source": [
    "#En el anterior caso el mejor realmente se encontraba en el EPOCH 8 donde existia un alto accuracy y val_accuracy.El numero de epochs es 200. Asimismo, utilizare un callback en donde haga uso del val accuracy para ver el mejor valor de Val_accuracy (testeo) y evitar asi el overffiting.\n",
    "\n",
    "from tensorflow.keras.callbacks import EarlyStopping\n",
    "\n",
    "#Definición de Callback. \n",
    "# Callback para definir si existe una mejora cada 10 epochs de al menos 10% de no encontrarlo se queda con el mejor.  \n",
    "early_stopping_callback = EarlyStopping(monitor='val_accuracy', min_delta=0.10, patience=20, verbose=1, mode='auto', baseline=None, restore_best_weights=True)\n",
    "\n",
    "# Compilar el modelo\n",
    "model.compile(optimizer='rmsprop',\n",
    "              loss='sparse_categorical_crossentropy',\n",
    "              metrics=['accuracy'])\n",
    "\n",
    "# Entrenar el modelo con 100 epochs y el callback\n",
    "model.fit(X_train, y_train_encoded, epochs=100, batch_size=32, validation_data=(X_test, y_test_encoded), callbacks=[early_stopping_callback])\n",
    "\n",
    "# Evaluar el rendimiento del modelo en los datos de prueba\n",
    "test_loss, test_acc = model.evaluate(X_test, y_test_encoded)\n",
    "print('Test accuracy:', test_acc)\n"
   ]
  },
  {
   "cell_type": "code",
   "execution_count": null,
   "metadata": {},
   "outputs": [],
   "source": []
  },
  {
   "cell_type": "markdown",
   "metadata": {},
   "source": [
    "A partir del valor de training accuracy y validation accuracy se puede observar que esta overfitteado. Una opcion es que aumente aun más el numero de epocas o aumentar el numero de imagenes. Habiendo utilizado solo 64 imagenes eso expresaria que son muy pocas imagenes para el modelo. \n"
   ]
  },
  {
   "cell_type": "code",
   "execution_count": 26,
   "metadata": {},
   "outputs": [
    {
     "name": "stdout",
     "output_type": "stream",
     "text": [
      "Epoch 1/40\n",
      "\u001b[1m2/2\u001b[0m \u001b[32m━━━━━━━━━━━━━━━━━━━━\u001b[0m\u001b[37m\u001b[0m \u001b[1m4s\u001b[0m 681ms/step - accuracy: 0.8693 - loss: 1.1509 - val_accuracy: 0.5385 - val_loss: 109.6699\n",
      "Epoch 2/40\n",
      "\u001b[1m2/2\u001b[0m \u001b[32m━━━━━━━━━━━━━━━━━━━━\u001b[0m\u001b[37m\u001b[0m \u001b[1m0s\u001b[0m 233ms/step - accuracy: 0.5431 - loss: 80.0573 - val_accuracy: 0.6154 - val_loss: 2.9243\n",
      "Epoch 3/40\n",
      "\u001b[1m2/2\u001b[0m \u001b[32m━━━━━━━━━━━━━━━━━━━━\u001b[0m\u001b[37m\u001b[0m \u001b[1m0s\u001b[0m 221ms/step - accuracy: 0.8511 - loss: 0.7645 - val_accuracy: 0.6154 - val_loss: 4.8819\n",
      "Epoch 4/40\n",
      "\u001b[1m2/2\u001b[0m \u001b[32m━━━━━━━━━━━━━━━━━━━━\u001b[0m\u001b[37m\u001b[0m \u001b[1m0s\u001b[0m 216ms/step - accuracy: 0.8041 - loss: 2.3917 - val_accuracy: 0.8462 - val_loss: 4.8447\n",
      "Epoch 5/40\n",
      "\u001b[1m2/2\u001b[0m \u001b[32m━━━━━━━━━━━━━━━━━━━━\u001b[0m\u001b[37m\u001b[0m \u001b[1m0s\u001b[0m 234ms/step - accuracy: 0.8930 - loss: 0.2007 - val_accuracy: 0.6923 - val_loss: 5.0523\n",
      "Epoch 6/40\n",
      "\u001b[1m2/2\u001b[0m \u001b[32m━━━━━━━━━━━━━━━━━━━━\u001b[0m\u001b[37m\u001b[0m \u001b[1m0s\u001b[0m 197ms/step - accuracy: 0.9165 - loss: 0.1540 - val_accuracy: 0.7692 - val_loss: 5.2033\n",
      "Epoch 7/40\n",
      "\u001b[1m2/2\u001b[0m \u001b[32m━━━━━━━━━━━━━━━━━━━━\u001b[0m\u001b[37m\u001b[0m \u001b[1m0s\u001b[0m 203ms/step - accuracy: 0.9400 - loss: 0.1199 - val_accuracy: 0.8462 - val_loss: 5.4704\n",
      "Epoch 8/40\n",
      "\u001b[1m2/2\u001b[0m \u001b[32m━━━━━━━━━━━━━━━━━━━━\u001b[0m\u001b[37m\u001b[0m \u001b[1m0s\u001b[0m 227ms/step - accuracy: 0.9765 - loss: 0.0821 - val_accuracy: 0.8462 - val_loss: 5.8076\n",
      "Epoch 9/40\n",
      "\u001b[1m2/2\u001b[0m \u001b[32m━━━━━━━━━━━━━━━━━━━━\u001b[0m\u001b[37m\u001b[0m \u001b[1m0s\u001b[0m 191ms/step - accuracy: 1.0000 - loss: 0.0362 - val_accuracy: 0.6923 - val_loss: 6.2483\n",
      "Epoch 10/40\n",
      "\u001b[1m2/2\u001b[0m \u001b[32m━━━━━━━━━━━━━━━━━━━━\u001b[0m\u001b[37m\u001b[0m \u001b[1m1s\u001b[0m 300ms/step - accuracy: 0.9346 - loss: 0.1731 - val_accuracy: 0.4615 - val_loss: 6.4409\n",
      "Epoch 11/40\n",
      "\u001b[1m2/2\u001b[0m \u001b[32m━━━━━━━━━━━━━━━━━━━━\u001b[0m\u001b[37m\u001b[0m \u001b[1m0s\u001b[0m 200ms/step - accuracy: 0.7990 - loss: 1.5935 - val_accuracy: 0.7692 - val_loss: 2.3993\n",
      "Epoch 12/40\n",
      "\u001b[1m2/2\u001b[0m \u001b[32m━━━━━━━━━━━━━━━━━━━━\u001b[0m\u001b[37m\u001b[0m \u001b[1m0s\u001b[0m 217ms/step - accuracy: 1.0000 - loss: 0.0351 - val_accuracy: 0.7692 - val_loss: 2.4579\n",
      "Epoch 13/40\n",
      "\u001b[1m2/2\u001b[0m \u001b[32m━━━━━━━━━━━━━━━━━━━━\u001b[0m\u001b[37m\u001b[0m \u001b[1m0s\u001b[0m 225ms/step - accuracy: 1.0000 - loss: 0.0201 - val_accuracy: 0.7692 - val_loss: 2.5116\n",
      "Epoch 14/40\n",
      "\u001b[1m2/2\u001b[0m \u001b[32m━━━━━━━━━━━━━━━━━━━━\u001b[0m\u001b[37m\u001b[0m \u001b[1m0s\u001b[0m 230ms/step - accuracy: 1.0000 - loss: 0.0148 - val_accuracy: 0.6923 - val_loss: 2.6220\n",
      "Epoch 15/40\n",
      "\u001b[1m2/2\u001b[0m \u001b[32m━━━━━━━━━━━━━━━━━━━━\u001b[0m\u001b[37m\u001b[0m \u001b[1m1s\u001b[0m 203ms/step - accuracy: 1.0000 - loss: 0.0091 - val_accuracy: 0.6923 - val_loss: 2.6661\n",
      "Epoch 16/40\n",
      "\u001b[1m2/2\u001b[0m \u001b[32m━━━━━━━━━━━━━━━━━━━━\u001b[0m\u001b[37m\u001b[0m \u001b[1m0s\u001b[0m 211ms/step - accuracy: 1.0000 - loss: 0.0053 - val_accuracy: 0.6923 - val_loss: 2.6828\n",
      "Epoch 17/40\n",
      "\u001b[1m2/2\u001b[0m \u001b[32m━━━━━━━━━━━━━━━━━━━━\u001b[0m\u001b[37m\u001b[0m \u001b[1m0s\u001b[0m 192ms/step - accuracy: 1.0000 - loss: 0.0044 - val_accuracy: 0.6923 - val_loss: 2.6918\n",
      "Epoch 18/40\n",
      "\u001b[1m2/2\u001b[0m \u001b[32m━━━━━━━━━━━━━━━━━━━━\u001b[0m\u001b[37m\u001b[0m \u001b[1m0s\u001b[0m 190ms/step - accuracy: 1.0000 - loss: 0.0030 - val_accuracy: 0.6923 - val_loss: 2.7094\n",
      "Epoch 19/40\n",
      "\u001b[1m2/2\u001b[0m \u001b[32m━━━━━━━━━━━━━━━━━━━━\u001b[0m\u001b[37m\u001b[0m \u001b[1m1s\u001b[0m 231ms/step - accuracy: 1.0000 - loss: 0.0021 - val_accuracy: 0.7692 - val_loss: 2.7168\n",
      "Epoch 20/40\n",
      "\u001b[1m2/2\u001b[0m \u001b[32m━━━━━━━━━━━━━━━━━━━━\u001b[0m\u001b[37m\u001b[0m \u001b[1m0s\u001b[0m 232ms/step - accuracy: 1.0000 - loss: 0.0017 - val_accuracy: 0.7692 - val_loss: 2.7423\n",
      "Epoch 21/40\n",
      "\u001b[1m2/2\u001b[0m \u001b[32m━━━━━━━━━━━━━━━━━━━━\u001b[0m\u001b[37m\u001b[0m \u001b[1m1s\u001b[0m 231ms/step - accuracy: 1.0000 - loss: 0.0014 - val_accuracy: 0.7692 - val_loss: 2.7618\n",
      "Epoch 22/40\n",
      "\u001b[1m2/2\u001b[0m \u001b[32m━━━━━━━━━━━━━━━━━━━━\u001b[0m\u001b[37m\u001b[0m \u001b[1m0s\u001b[0m 234ms/step - accuracy: 1.0000 - loss: 0.0012 - val_accuracy: 0.7692 - val_loss: 2.7710\n",
      "Epoch 23/40\n",
      "\u001b[1m2/2\u001b[0m \u001b[32m━━━━━━━━━━━━━━━━━━━━\u001b[0m\u001b[37m\u001b[0m \u001b[1m0s\u001b[0m 262ms/step - accuracy: 1.0000 - loss: 8.3545e-04 - val_accuracy: 0.7692 - val_loss: 2.7831\n",
      "Epoch 24/40\n",
      "\u001b[1m2/2\u001b[0m \u001b[32m━━━━━━━━━━━━━━━━━━━━\u001b[0m\u001b[37m\u001b[0m \u001b[1m0s\u001b[0m 207ms/step - accuracy: 1.0000 - loss: 7.0362e-04 - val_accuracy: 0.7692 - val_loss: 2.8105\n",
      "Epoch 25/40\n",
      "\u001b[1m2/2\u001b[0m \u001b[32m━━━━━━━━━━━━━━━━━━━━\u001b[0m\u001b[37m\u001b[0m \u001b[1m1s\u001b[0m 216ms/step - accuracy: 1.0000 - loss: 6.5241e-04 - val_accuracy: 0.7692 - val_loss: 2.8084\n",
      "Epoch 26/40\n",
      "\u001b[1m2/2\u001b[0m \u001b[32m━━━━━━━━━━━━━━━━━━━━\u001b[0m\u001b[37m\u001b[0m \u001b[1m1s\u001b[0m 211ms/step - accuracy: 1.0000 - loss: 5.9158e-04 - val_accuracy: 0.7692 - val_loss: 2.8371\n",
      "Epoch 27/40\n",
      "\u001b[1m2/2\u001b[0m \u001b[32m━━━━━━━━━━━━━━━━━━━━\u001b[0m\u001b[37m\u001b[0m \u001b[1m1s\u001b[0m 222ms/step - accuracy: 1.0000 - loss: 4.7073e-04 - val_accuracy: 0.7692 - val_loss: 2.8699\n",
      "Epoch 28/40\n",
      "\u001b[1m2/2\u001b[0m \u001b[32m━━━━━━━━━━━━━━━━━━━━\u001b[0m\u001b[37m\u001b[0m \u001b[1m0s\u001b[0m 205ms/step - accuracy: 1.0000 - loss: 4.4528e-04 - val_accuracy: 0.6923 - val_loss: 2.8842\n",
      "Epoch 29/40\n",
      "\u001b[1m2/2\u001b[0m \u001b[32m━━━━━━━━━━━━━━━━━━━━\u001b[0m\u001b[37m\u001b[0m \u001b[1m0s\u001b[0m 205ms/step - accuracy: 1.0000 - loss: 4.2347e-04 - val_accuracy: 0.6923 - val_loss: 2.9172\n",
      "Epoch 30/40\n",
      "\u001b[1m2/2\u001b[0m \u001b[32m━━━━━━━━━━━━━━━━━━━━\u001b[0m\u001b[37m\u001b[0m \u001b[1m0s\u001b[0m 211ms/step - accuracy: 1.0000 - loss: 3.3151e-04 - val_accuracy: 0.6923 - val_loss: 2.9174\n",
      "Epoch 31/40\n",
      "\u001b[1m2/2\u001b[0m \u001b[32m━━━━━━━━━━━━━━━━━━━━\u001b[0m\u001b[37m\u001b[0m \u001b[1m0s\u001b[0m 210ms/step - accuracy: 1.0000 - loss: 2.8741e-04 - val_accuracy: 0.6923 - val_loss: 2.9740\n",
      "Epoch 32/40\n",
      "\u001b[1m2/2\u001b[0m \u001b[32m━━━━━━━━━━━━━━━━━━━━\u001b[0m\u001b[37m\u001b[0m \u001b[1m0s\u001b[0m 207ms/step - accuracy: 1.0000 - loss: 2.9404e-04 - val_accuracy: 0.6923 - val_loss: 2.9812\n",
      "Epoch 33/40\n",
      "\u001b[1m2/2\u001b[0m \u001b[32m━━━━━━━━━━━━━━━━━━━━\u001b[0m\u001b[37m\u001b[0m \u001b[1m0s\u001b[0m 241ms/step - accuracy: 1.0000 - loss: 2.3416e-04 - val_accuracy: 0.6923 - val_loss: 3.0010\n",
      "Epoch 34/40\n",
      "\u001b[1m2/2\u001b[0m \u001b[32m━━━━━━━━━━━━━━━━━━━━\u001b[0m\u001b[37m\u001b[0m \u001b[1m1s\u001b[0m 236ms/step - accuracy: 1.0000 - loss: 2.2569e-04 - val_accuracy: 0.6923 - val_loss: 3.0176\n",
      "Epoch 35/40\n",
      "\u001b[1m2/2\u001b[0m \u001b[32m━━━━━━━━━━━━━━━━━━━━\u001b[0m\u001b[37m\u001b[0m \u001b[1m0s\u001b[0m 224ms/step - accuracy: 1.0000 - loss: 1.6815e-04 - val_accuracy: 0.6923 - val_loss: 3.0607\n",
      "Epoch 36/40\n",
      "\u001b[1m2/2\u001b[0m \u001b[32m━━━━━━━━━━━━━━━━━━━━\u001b[0m\u001b[37m\u001b[0m \u001b[1m0s\u001b[0m 234ms/step - accuracy: 1.0000 - loss: 1.3628e-04 - val_accuracy: 0.6923 - val_loss: 3.1079\n",
      "Epoch 37/40\n",
      "\u001b[1m2/2\u001b[0m \u001b[32m━━━━━━━━━━━━━━━━━━━━\u001b[0m\u001b[37m\u001b[0m \u001b[1m1s\u001b[0m 210ms/step - accuracy: 1.0000 - loss: 1.2157e-04 - val_accuracy: 0.6923 - val_loss: 3.1396\n",
      "Epoch 38/40\n",
      "\u001b[1m2/2\u001b[0m \u001b[32m━━━━━━━━━━━━━━━━━━━━\u001b[0m\u001b[37m\u001b[0m \u001b[1m0s\u001b[0m 241ms/step - accuracy: 1.0000 - loss: 1.1220e-04 - val_accuracy: 0.6923 - val_loss: 3.1663\n",
      "Epoch 39/40\n",
      "\u001b[1m2/2\u001b[0m \u001b[32m━━━━━━━━━━━━━━━━━━━━\u001b[0m\u001b[37m\u001b[0m \u001b[1m0s\u001b[0m 252ms/step - accuracy: 1.0000 - loss: 9.0147e-05 - val_accuracy: 0.6923 - val_loss: 3.2011\n",
      "Epoch 40/40\n",
      "\u001b[1m2/2\u001b[0m \u001b[32m━━━━━━━━━━━━━━━━━━━━\u001b[0m\u001b[37m\u001b[0m \u001b[1m0s\u001b[0m 210ms/step - accuracy: 1.0000 - loss: 8.5913e-05 - val_accuracy: 0.6923 - val_loss: 3.2190\n",
      "\u001b[1m1/1\u001b[0m \u001b[32m━━━━━━━━━━━━━━━━━━━━\u001b[0m\u001b[37m\u001b[0m \u001b[1m0s\u001b[0m 96ms/step - accuracy: 0.6923 - loss: 3.2190\n",
      "Test accuracy: 0.692307710647583\n"
     ]
    }
   ],
   "source": [
    "from tensorflow.keras.callbacks import EarlyStopping\n",
    "\n",
    "#Definición de Callback. \n",
    "# Callback para definir si existe una mejora cada 5 epochs de al menos 10% de no encontrarlo se queda con el mejor. \n",
    "# Compilar el modelo\n",
    "model.compile(optimizer='rmsprop',\n",
    "              loss='sparse_categorical_crossentropy',\n",
    "              metrics=['accuracy'])\n",
    "\n",
    "# Entrenar el modelo con 100 epochs y el callback\n",
    "model.fit(X_train, y_train_encoded, epochs=40, batch_size=32, validation_data=(X_test, y_test_encoded), callbacks=None)\n",
    "\n",
    "# Evaluar el rendimiento del modelo en los datos de prueba\n",
    "test_loss_1, test_acc_1 = model.evaluate(X_test, y_test_encoded)\n",
    "print('Test accuracy:', test_acc_1)"
   ]
  },
  {
   "cell_type": "code",
   "execution_count": 28,
   "metadata": {},
   "outputs": [
    {
     "name": "stdout",
     "output_type": "stream",
     "text": [
      "Test accuracy: 0.692307710647583\n"
     ]
    }
   ],
   "source": [
    "print('Test accuracy:', test_acc_1)"
   ]
  }
 ],
 "metadata": {
  "kernelspec": {
   "display_name": "Python 3",
   "language": "python",
   "name": "python3"
  },
  "language_info": {
   "codemirror_mode": {
    "name": "ipython",
    "version": 3
   },
   "file_extension": ".py",
   "mimetype": "text/x-python",
   "name": "python",
   "nbconvert_exporter": "python",
   "pygments_lexer": "ipython3",
   "version": "3.11.4"
  }
 },
 "nbformat": 4,
 "nbformat_minor": 2
}
