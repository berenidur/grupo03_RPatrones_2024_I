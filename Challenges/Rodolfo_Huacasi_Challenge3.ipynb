{
  "cells": [
    {
      "cell_type": "markdown",
      "metadata": {
        "id": "34XrRL9DPrNS"
      },
      "source": [
        "# Challenge 3"
      ]
    },
    {
      "cell_type": "markdown",
      "source": [
        "# Introducción"
      ],
      "metadata": {
        "id": "FCl4Xx-NSnd0"
      }
    },
    {
      "cell_type": "markdown",
      "source": [
        "En el ámbito de la bioinformática y la química computacional, el uso de métodos de aprendizaje automático se ha vuelto fundamental para el análisis y la predicción de diversas propiedades moleculares. Entre ellas, destaca el uso de Support Vector Machines (SVM), ya que se ha demostrado que produce un error de predicción más bajo en comparación con los clasificadores basados en otros métodos como las redes neuronales artificiales, especialmente cuando se consideran una gran cantidad de características [1].\n",
        "\n",
        "En este challenge, se aborda el uso de un algoritmo de SVM para clasificar la presencia o ausencia de grupos quelantes. El conjunto de datos utilizado en este estudio proviene de la Siderophores Database, una colección de 221 sideróforos, que son compuestos orgánicos vitales en la captación de hierro por microorganismos. Se busca construir un modelo de SVM que permita la clasificación haciendo uso de las propiedades moleculares."
      ],
      "metadata": {
        "id": "AstMYq3CSrsr"
      }
    },
    {
      "cell_type": "markdown",
      "source": [
        "# Metodología"
      ],
      "metadata": {
        "id": "TvgmRaDkSsvC"
      }
    },
    {
      "cell_type": "code",
      "source": [
        "#@title import libraries\n",
        "import numpy as np\n",
        "import pandas as pd\n",
        "import seaborn as sns\n",
        "import matplotlib.pyplot as plt"
      ],
      "metadata": {
        "id": "wOwp6SLNISbD",
        "cellView": "form"
      },
      "execution_count": 1,
      "outputs": []
    },
    {
      "cell_type": "code",
      "source": [
        "df1 = pd.read_csv('https://raw.githubusercontent.com/inefable12/siderophores_database/main/Siderophore_DB.csv')\n",
        "df2 = pd.read_csv('https://raw.githubusercontent.com/inefable12/siderophores_database/main/Siderophore_DB1.csv')"
      ],
      "metadata": {
        "id": "RZTHlXoMFzRS"
      },
      "execution_count": 2,
      "outputs": []
    },
    {
      "cell_type": "code",
      "source": [
        "# Se unen ambos df teniendo como referencia la columna 'ID'\n",
        "df = pd.merge(df1, df2, on='ID', how='inner')\n",
        "df.info()"
      ],
      "metadata": {
        "colab": {
          "base_uri": "https://localhost:8080/"
        },
        "id": "5WVIGZGxGR58",
        "outputId": "29782d1a-0f71-4e1d-fa6e-642401b61dc9"
      },
      "execution_count": 3,
      "outputs": [
        {
          "output_type": "stream",
          "name": "stdout",
          "text": [
            "<class 'pandas.core.frame.DataFrame'>\n",
            "RangeIndex: 221 entries, 0 to 220\n",
            "Columns: 132 entries, ID to fr_phenol_noOrthoHbond\n",
            "dtypes: bool(1), float64(86), int64(39), object(6)\n",
            "memory usage: 226.5+ KB\n"
          ]
        }
      ]
    },
    {
      "cell_type": "code",
      "source": [
        "# Se visualiza los datatype de cada columna\n",
        "for d in ['bool', 'float64', 'int64', 'object']:\n",
        "  dataype_columns = df.select_dtypes(d)\n",
        "  print(f'{d}\\t{dataype_columns.columns}')"
      ],
      "metadata": {
        "colab": {
          "base_uri": "https://localhost:8080/"
        },
        "id": "AYeA9qtPItTl",
        "outputId": "93f716cf-c44e-4b50-99fa-77f9e7adad8b"
      },
      "execution_count": 4,
      "outputs": [
        {
          "output_type": "stream",
          "name": "stdout",
          "text": [
            "bool\tIndex(['validate smiles'], dtype='object')\n",
            "float64\tIndex(['MaxEStateIndex', 'MinEStateIndex', 'MaxAbsEStateIndex',\n",
            "       'MinAbsEStateIndex', 'qed', 'MolWt', 'HeavyAtomMolWt', 'ExactMolWt',\n",
            "       'MaxPartialCharge', 'MinPartialCharge', 'MaxAbsPartialCharge',\n",
            "       'MinAbsPartialCharge', 'FpDensityMorgan1', 'FpDensityMorgan2',\n",
            "       'FpDensityMorgan3', 'BCUT2D_MWHI', 'BCUT2D_MWLOW', 'BCUT2D_CHGLO',\n",
            "       'BCUT2D_LOGPLOW', 'BCUT2D_MRHI', 'BCUT2D_MRLOW', 'BalabanJ', 'BertzCT',\n",
            "       'Chi0', 'Chi0n', 'Chi0v', 'Chi1', 'Chi1n', 'Chi1v', 'Chi2n', 'Chi2v',\n",
            "       'Chi3n', 'Chi3v', 'Chi4n', 'Chi4v', 'HallKierAlpha', 'Kappa1', 'Kappa2',\n",
            "       'Kappa3', 'LabuteASA', 'PEOE_VSA1', 'PEOE_VSA10', 'PEOE_VSA11',\n",
            "       'PEOE_VSA12', 'PEOE_VSA13', 'PEOE_VSA14', 'PEOE_VSA2', 'PEOE_VSA3',\n",
            "       'PEOE_VSA6', 'PEOE_VSA7', 'PEOE_VSA8', 'PEOE_VSA9', 'SMR_VSA1',\n",
            "       'SMR_VSA10', 'SMR_VSA2', 'SMR_VSA3', 'SMR_VSA4', 'SMR_VSA5', 'SMR_VSA6',\n",
            "       'SMR_VSA7', 'SMR_VSA9', 'SlogP_VSA1', 'SlogP_VSA11', 'SlogP_VSA2',\n",
            "       'SlogP_VSA3', 'SlogP_VSA5', 'SlogP_VSA6', 'SlogP_VSA7', 'SlogP_VSA8',\n",
            "       'TPSA', 'EState_VSA1', 'EState_VSA10', 'EState_VSA11', 'EState_VSA8',\n",
            "       'EState_VSA9', 'VSA_EState1', 'VSA_EState2', 'VSA_EState3',\n",
            "       'VSA_EState4', 'VSA_EState5', 'VSA_EState6', 'VSA_EState7',\n",
            "       'VSA_EState8', 'FractionCSP3', 'MolLogP', 'MolMR'],\n",
            "      dtype='object')\n",
            "int64\tIndex(['hydroxamate', 'catecholate', 'a-hydroxycarboxylate', 'carboxylate',\n",
            "       'phenolate', 'citrate', 'other', 'NumValenceElectrons',\n",
            "       'HeavyAtomCount', 'NHOHCount', 'NOCount', 'NumAliphaticHeterocycles',\n",
            "       'NumAliphaticRings', 'NumAromaticCarbocycles', 'NumAromaticRings',\n",
            "       'NumHAcceptors', 'NumHDonors', 'NumHeteroatoms', 'NumRotatableBonds',\n",
            "       'NumSaturatedHeterocycles', 'NumSaturatedRings', 'RingCount',\n",
            "       'fr_Al_COO', 'fr_Al_OH', 'fr_Ar_OH', 'fr_COO', 'fr_COO2', 'fr_C_O',\n",
            "       'fr_C_O_noCOO', 'fr_NH0', 'fr_NH1', 'fr_NH2', 'fr_N_O', 'fr_amide',\n",
            "       'fr_benzene', 'fr_ester', 'fr_para_hydroxylation', 'fr_phenol',\n",
            "       'fr_phenol_noOrthoHbond'],\n",
            "      dtype='object')\n",
            "object\tIndex(['ID', 'Compounds', 'Microorganism', 'SMILES', 'SMARTS', 'SELFIES'], dtype='object')\n"
          ]
        }
      ]
    },
    {
      "cell_type": "code",
      "source": [
        "# Se escogen los posibles features\n",
        "# Coinciden con las columnas en df2 (Siderophore_DB1.csv) con la excepción de ID\n",
        "featureslist=df2.columns[1:].tolist()\n",
        "print(featureslist)"
      ],
      "metadata": {
        "colab": {
          "base_uri": "https://localhost:8080/"
        },
        "id": "K7jBDu1o__Zj",
        "outputId": "068fa8cb-fc2a-4c58-f157-0007c620d65d"
      },
      "execution_count": 5,
      "outputs": [
        {
          "output_type": "stream",
          "name": "stdout",
          "text": [
            "['MaxEStateIndex', 'MinEStateIndex', 'MaxAbsEStateIndex', 'MinAbsEStateIndex', 'qed', 'MolWt', 'HeavyAtomMolWt', 'ExactMolWt', 'NumValenceElectrons', 'MaxPartialCharge', 'MinPartialCharge', 'MaxAbsPartialCharge', 'MinAbsPartialCharge', 'FpDensityMorgan1', 'FpDensityMorgan2', 'FpDensityMorgan3', 'BCUT2D_MWHI', 'BCUT2D_MWLOW', 'BCUT2D_CHGLO', 'BCUT2D_LOGPLOW', 'BCUT2D_MRHI', 'BCUT2D_MRLOW', 'BalabanJ', 'BertzCT', 'Chi0', 'Chi0n', 'Chi0v', 'Chi1', 'Chi1n', 'Chi1v', 'Chi2n', 'Chi2v', 'Chi3n', 'Chi3v', 'Chi4n', 'Chi4v', 'HallKierAlpha', 'Kappa1', 'Kappa2', 'Kappa3', 'LabuteASA', 'PEOE_VSA1', 'PEOE_VSA10', 'PEOE_VSA11', 'PEOE_VSA12', 'PEOE_VSA13', 'PEOE_VSA14', 'PEOE_VSA2', 'PEOE_VSA3', 'PEOE_VSA6', 'PEOE_VSA7', 'PEOE_VSA8', 'PEOE_VSA9', 'SMR_VSA1', 'SMR_VSA10', 'SMR_VSA2', 'SMR_VSA3', 'SMR_VSA4', 'SMR_VSA5', 'SMR_VSA6', 'SMR_VSA7', 'SMR_VSA9', 'SlogP_VSA1', 'SlogP_VSA11', 'SlogP_VSA2', 'SlogP_VSA3', 'SlogP_VSA5', 'SlogP_VSA6', 'SlogP_VSA7', 'SlogP_VSA8', 'TPSA', 'EState_VSA1', 'EState_VSA10', 'EState_VSA11', 'EState_VSA8', 'EState_VSA9', 'VSA_EState1', 'VSA_EState2', 'VSA_EState3', 'VSA_EState4', 'VSA_EState5', 'VSA_EState6', 'VSA_EState7', 'VSA_EState8', 'FractionCSP3', 'HeavyAtomCount', 'NHOHCount', 'NOCount', 'NumAliphaticHeterocycles', 'NumAliphaticRings', 'NumAromaticCarbocycles', 'NumAromaticRings', 'NumHAcceptors', 'NumHDonors', 'NumHeteroatoms', 'NumRotatableBonds', 'NumSaturatedHeterocycles', 'NumSaturatedRings', 'RingCount', 'MolLogP', 'MolMR', 'fr_Al_COO', 'fr_Al_OH', 'fr_Ar_OH', 'fr_COO', 'fr_COO2', 'fr_C_O', 'fr_C_O_noCOO', 'fr_NH0', 'fr_NH1', 'fr_NH2', 'fr_N_O', 'fr_amide', 'fr_benzene', 'fr_ester', 'fr_para_hydroxylation', 'fr_phenol', 'fr_phenol_noOrthoHbond']\n"
          ]
        }
      ]
    },
    {
      "cell_type": "code",
      "source": [
        "# Se escogen los posibles targets\n",
        "# No se necesitará la data de tipo objeto ni bool para la SVM (de df1)\n",
        "targetslist=df1.columns[1:].tolist()\n",
        "nofeat_columns = df.select_dtypes('object').columns.tolist()+ df.select_dtypes('bool').columns.tolist()\n",
        "targetslist=[x for x in targetslist if x not in nofeat_columns]\n",
        "print(targetslist)"
      ],
      "metadata": {
        "id": "WFvw09TbKCaY",
        "colab": {
          "base_uri": "https://localhost:8080/"
        },
        "outputId": "eaa95a44-7780-4fec-86c3-723d3bdf8103"
      },
      "execution_count": 6,
      "outputs": [
        {
          "output_type": "stream",
          "name": "stdout",
          "text": [
            "['hydroxamate', 'catecholate', 'a-hydroxycarboxylate', 'carboxylate', 'phenolate', 'citrate', 'other']\n"
          ]
        }
      ]
    },
    {
      "cell_type": "code",
      "source": [
        "# Se define las filas que se utilizarán para mostrar el df ahora en adelante\n",
        "cols=featureslist+targetslist"
      ],
      "metadata": {
        "id": "s-AMxlQnAXQZ"
      },
      "execution_count": 7,
      "outputs": []
    },
    {
      "cell_type": "code",
      "source": [
        "# Se evalúa si las columnas seleccionadas tienen problemas de datatype\n",
        "df[cols].info()"
      ],
      "metadata": {
        "colab": {
          "base_uri": "https://localhost:8080/"
        },
        "id": "_RRvUrXoK2it",
        "outputId": "81d30c8f-a818-4196-9857-e05e42f2186a"
      },
      "execution_count": 8,
      "outputs": [
        {
          "output_type": "stream",
          "name": "stdout",
          "text": [
            "<class 'pandas.core.frame.DataFrame'>\n",
            "RangeIndex: 221 entries, 0 to 220\n",
            "Columns: 125 entries, MaxEStateIndex to other\n",
            "dtypes: float64(86), int64(39)\n",
            "memory usage: 215.9 KB\n"
          ]
        }
      ]
    },
    {
      "cell_type": "code",
      "source": [
        "df[cols].describe().T"
      ],
      "metadata": {
        "colab": {
          "base_uri": "https://localhost:8080/",
          "height": 423
        },
        "id": "tbeonxg7IARQ",
        "outputId": "8eaa639c-7b81-4c6d-ee72-9d5c33d504f5"
      },
      "execution_count": 9,
      "outputs": [
        {
          "output_type": "execute_result",
          "data": {
            "text/plain": [
              "                      count       mean       std       min        25%  \\\n",
              "MaxEStateIndex        221.0  14.361458  1.306650  9.667832  13.693037   \n",
              "MinEStateIndex        221.0  -5.557024  1.186967 -7.433673  -6.290073   \n",
              "MaxAbsEStateIndex     221.0  14.361458  1.306650  9.667832  13.693037   \n",
              "MinAbsEStateIndex     221.0   1.244646  0.508051  0.011382   1.036932   \n",
              "qed                   221.0   0.151045  0.203659  0.007004   0.030619   \n",
              "...                     ...        ...       ...       ...        ...   \n",
              "a-hydroxycarboxylate  221.0   0.104072  0.407912  0.000000   0.000000   \n",
              "carboxylate           221.0   0.389140  0.627165  0.000000   0.000000   \n",
              "phenolate             221.0   0.090498  0.302940  0.000000   0.000000   \n",
              "citrate               221.0   0.099548  0.342517  0.000000   0.000000   \n",
              "other                 221.0   0.076923  0.267074  0.000000   0.000000   \n",
              "\n",
              "                            50%        75%        max  \n",
              "MaxEStateIndex        14.222851  15.424962  16.647474  \n",
              "MinEStateIndex        -5.571034  -5.211695  -0.881916  \n",
              "MaxAbsEStateIndex     14.222851  15.424962  16.647474  \n",
              "MinAbsEStateIndex      1.280840   1.618549   2.220550  \n",
              "qed                    0.058700   0.158075   0.881757  \n",
              "...                         ...        ...        ...  \n",
              "a-hydroxycarboxylate   0.000000   0.000000   2.000000  \n",
              "carboxylate            0.000000   1.000000   4.000000  \n",
              "phenolate              0.000000   0.000000   2.000000  \n",
              "citrate                0.000000   0.000000   2.000000  \n",
              "other                  0.000000   0.000000   1.000000  \n",
              "\n",
              "[125 rows x 8 columns]"
            ],
            "text/html": [
              "\n",
              "  <div id=\"df-57141272-2662-4580-aff1-1fa928afe09a\" class=\"colab-df-container\">\n",
              "    <div>\n",
              "<style scoped>\n",
              "    .dataframe tbody tr th:only-of-type {\n",
              "        vertical-align: middle;\n",
              "    }\n",
              "\n",
              "    .dataframe tbody tr th {\n",
              "        vertical-align: top;\n",
              "    }\n",
              "\n",
              "    .dataframe thead th {\n",
              "        text-align: right;\n",
              "    }\n",
              "</style>\n",
              "<table border=\"1\" class=\"dataframe\">\n",
              "  <thead>\n",
              "    <tr style=\"text-align: right;\">\n",
              "      <th></th>\n",
              "      <th>count</th>\n",
              "      <th>mean</th>\n",
              "      <th>std</th>\n",
              "      <th>min</th>\n",
              "      <th>25%</th>\n",
              "      <th>50%</th>\n",
              "      <th>75%</th>\n",
              "      <th>max</th>\n",
              "    </tr>\n",
              "  </thead>\n",
              "  <tbody>\n",
              "    <tr>\n",
              "      <th>MaxEStateIndex</th>\n",
              "      <td>221.0</td>\n",
              "      <td>14.361458</td>\n",
              "      <td>1.306650</td>\n",
              "      <td>9.667832</td>\n",
              "      <td>13.693037</td>\n",
              "      <td>14.222851</td>\n",
              "      <td>15.424962</td>\n",
              "      <td>16.647474</td>\n",
              "    </tr>\n",
              "    <tr>\n",
              "      <th>MinEStateIndex</th>\n",
              "      <td>221.0</td>\n",
              "      <td>-5.557024</td>\n",
              "      <td>1.186967</td>\n",
              "      <td>-7.433673</td>\n",
              "      <td>-6.290073</td>\n",
              "      <td>-5.571034</td>\n",
              "      <td>-5.211695</td>\n",
              "      <td>-0.881916</td>\n",
              "    </tr>\n",
              "    <tr>\n",
              "      <th>MaxAbsEStateIndex</th>\n",
              "      <td>221.0</td>\n",
              "      <td>14.361458</td>\n",
              "      <td>1.306650</td>\n",
              "      <td>9.667832</td>\n",
              "      <td>13.693037</td>\n",
              "      <td>14.222851</td>\n",
              "      <td>15.424962</td>\n",
              "      <td>16.647474</td>\n",
              "    </tr>\n",
              "    <tr>\n",
              "      <th>MinAbsEStateIndex</th>\n",
              "      <td>221.0</td>\n",
              "      <td>1.244646</td>\n",
              "      <td>0.508051</td>\n",
              "      <td>0.011382</td>\n",
              "      <td>1.036932</td>\n",
              "      <td>1.280840</td>\n",
              "      <td>1.618549</td>\n",
              "      <td>2.220550</td>\n",
              "    </tr>\n",
              "    <tr>\n",
              "      <th>qed</th>\n",
              "      <td>221.0</td>\n",
              "      <td>0.151045</td>\n",
              "      <td>0.203659</td>\n",
              "      <td>0.007004</td>\n",
              "      <td>0.030619</td>\n",
              "      <td>0.058700</td>\n",
              "      <td>0.158075</td>\n",
              "      <td>0.881757</td>\n",
              "    </tr>\n",
              "    <tr>\n",
              "      <th>...</th>\n",
              "      <td>...</td>\n",
              "      <td>...</td>\n",
              "      <td>...</td>\n",
              "      <td>...</td>\n",
              "      <td>...</td>\n",
              "      <td>...</td>\n",
              "      <td>...</td>\n",
              "      <td>...</td>\n",
              "    </tr>\n",
              "    <tr>\n",
              "      <th>a-hydroxycarboxylate</th>\n",
              "      <td>221.0</td>\n",
              "      <td>0.104072</td>\n",
              "      <td>0.407912</td>\n",
              "      <td>0.000000</td>\n",
              "      <td>0.000000</td>\n",
              "      <td>0.000000</td>\n",
              "      <td>0.000000</td>\n",
              "      <td>2.000000</td>\n",
              "    </tr>\n",
              "    <tr>\n",
              "      <th>carboxylate</th>\n",
              "      <td>221.0</td>\n",
              "      <td>0.389140</td>\n",
              "      <td>0.627165</td>\n",
              "      <td>0.000000</td>\n",
              "      <td>0.000000</td>\n",
              "      <td>0.000000</td>\n",
              "      <td>1.000000</td>\n",
              "      <td>4.000000</td>\n",
              "    </tr>\n",
              "    <tr>\n",
              "      <th>phenolate</th>\n",
              "      <td>221.0</td>\n",
              "      <td>0.090498</td>\n",
              "      <td>0.302940</td>\n",
              "      <td>0.000000</td>\n",
              "      <td>0.000000</td>\n",
              "      <td>0.000000</td>\n",
              "      <td>0.000000</td>\n",
              "      <td>2.000000</td>\n",
              "    </tr>\n",
              "    <tr>\n",
              "      <th>citrate</th>\n",
              "      <td>221.0</td>\n",
              "      <td>0.099548</td>\n",
              "      <td>0.342517</td>\n",
              "      <td>0.000000</td>\n",
              "      <td>0.000000</td>\n",
              "      <td>0.000000</td>\n",
              "      <td>0.000000</td>\n",
              "      <td>2.000000</td>\n",
              "    </tr>\n",
              "    <tr>\n",
              "      <th>other</th>\n",
              "      <td>221.0</td>\n",
              "      <td>0.076923</td>\n",
              "      <td>0.267074</td>\n",
              "      <td>0.000000</td>\n",
              "      <td>0.000000</td>\n",
              "      <td>0.000000</td>\n",
              "      <td>0.000000</td>\n",
              "      <td>1.000000</td>\n",
              "    </tr>\n",
              "  </tbody>\n",
              "</table>\n",
              "<p>125 rows × 8 columns</p>\n",
              "</div>\n",
              "    <div class=\"colab-df-buttons\">\n",
              "\n",
              "  <div class=\"colab-df-container\">\n",
              "    <button class=\"colab-df-convert\" onclick=\"convertToInteractive('df-57141272-2662-4580-aff1-1fa928afe09a')\"\n",
              "            title=\"Convert this dataframe to an interactive table.\"\n",
              "            style=\"display:none;\">\n",
              "\n",
              "  <svg xmlns=\"http://www.w3.org/2000/svg\" height=\"24px\" viewBox=\"0 -960 960 960\">\n",
              "    <path d=\"M120-120v-720h720v720H120Zm60-500h600v-160H180v160Zm220 220h160v-160H400v160Zm0 220h160v-160H400v160ZM180-400h160v-160H180v160Zm440 0h160v-160H620v160ZM180-180h160v-160H180v160Zm440 0h160v-160H620v160Z\"/>\n",
              "  </svg>\n",
              "    </button>\n",
              "\n",
              "  <style>\n",
              "    .colab-df-container {\n",
              "      display:flex;\n",
              "      gap: 12px;\n",
              "    }\n",
              "\n",
              "    .colab-df-convert {\n",
              "      background-color: #E8F0FE;\n",
              "      border: none;\n",
              "      border-radius: 50%;\n",
              "      cursor: pointer;\n",
              "      display: none;\n",
              "      fill: #1967D2;\n",
              "      height: 32px;\n",
              "      padding: 0 0 0 0;\n",
              "      width: 32px;\n",
              "    }\n",
              "\n",
              "    .colab-df-convert:hover {\n",
              "      background-color: #E2EBFA;\n",
              "      box-shadow: 0px 1px 2px rgba(60, 64, 67, 0.3), 0px 1px 3px 1px rgba(60, 64, 67, 0.15);\n",
              "      fill: #174EA6;\n",
              "    }\n",
              "\n",
              "    .colab-df-buttons div {\n",
              "      margin-bottom: 4px;\n",
              "    }\n",
              "\n",
              "    [theme=dark] .colab-df-convert {\n",
              "      background-color: #3B4455;\n",
              "      fill: #D2E3FC;\n",
              "    }\n",
              "\n",
              "    [theme=dark] .colab-df-convert:hover {\n",
              "      background-color: #434B5C;\n",
              "      box-shadow: 0px 1px 3px 1px rgba(0, 0, 0, 0.15);\n",
              "      filter: drop-shadow(0px 1px 2px rgba(0, 0, 0, 0.3));\n",
              "      fill: #FFFFFF;\n",
              "    }\n",
              "  </style>\n",
              "\n",
              "    <script>\n",
              "      const buttonEl =\n",
              "        document.querySelector('#df-57141272-2662-4580-aff1-1fa928afe09a button.colab-df-convert');\n",
              "      buttonEl.style.display =\n",
              "        google.colab.kernel.accessAllowed ? 'block' : 'none';\n",
              "\n",
              "      async function convertToInteractive(key) {\n",
              "        const element = document.querySelector('#df-57141272-2662-4580-aff1-1fa928afe09a');\n",
              "        const dataTable =\n",
              "          await google.colab.kernel.invokeFunction('convertToInteractive',\n",
              "                                                    [key], {});\n",
              "        if (!dataTable) return;\n",
              "\n",
              "        const docLinkHtml = 'Like what you see? Visit the ' +\n",
              "          '<a target=\"_blank\" href=https://colab.research.google.com/notebooks/data_table.ipynb>data table notebook</a>'\n",
              "          + ' to learn more about interactive tables.';\n",
              "        element.innerHTML = '';\n",
              "        dataTable['output_type'] = 'display_data';\n",
              "        await google.colab.output.renderOutput(dataTable, element);\n",
              "        const docLink = document.createElement('div');\n",
              "        docLink.innerHTML = docLinkHtml;\n",
              "        element.appendChild(docLink);\n",
              "      }\n",
              "    </script>\n",
              "  </div>\n",
              "\n",
              "\n",
              "<div id=\"df-664bbe56-5ba5-4dcc-a67b-f10b086e809e\">\n",
              "  <button class=\"colab-df-quickchart\" onclick=\"quickchart('df-664bbe56-5ba5-4dcc-a67b-f10b086e809e')\"\n",
              "            title=\"Suggest charts\"\n",
              "            style=\"display:none;\">\n",
              "\n",
              "<svg xmlns=\"http://www.w3.org/2000/svg\" height=\"24px\"viewBox=\"0 0 24 24\"\n",
              "     width=\"24px\">\n",
              "    <g>\n",
              "        <path d=\"M19 3H5c-1.1 0-2 .9-2 2v14c0 1.1.9 2 2 2h14c1.1 0 2-.9 2-2V5c0-1.1-.9-2-2-2zM9 17H7v-7h2v7zm4 0h-2V7h2v10zm4 0h-2v-4h2v4z\"/>\n",
              "    </g>\n",
              "</svg>\n",
              "  </button>\n",
              "\n",
              "<style>\n",
              "  .colab-df-quickchart {\n",
              "      --bg-color: #E8F0FE;\n",
              "      --fill-color: #1967D2;\n",
              "      --hover-bg-color: #E2EBFA;\n",
              "      --hover-fill-color: #174EA6;\n",
              "      --disabled-fill-color: #AAA;\n",
              "      --disabled-bg-color: #DDD;\n",
              "  }\n",
              "\n",
              "  [theme=dark] .colab-df-quickchart {\n",
              "      --bg-color: #3B4455;\n",
              "      --fill-color: #D2E3FC;\n",
              "      --hover-bg-color: #434B5C;\n",
              "      --hover-fill-color: #FFFFFF;\n",
              "      --disabled-bg-color: #3B4455;\n",
              "      --disabled-fill-color: #666;\n",
              "  }\n",
              "\n",
              "  .colab-df-quickchart {\n",
              "    background-color: var(--bg-color);\n",
              "    border: none;\n",
              "    border-radius: 50%;\n",
              "    cursor: pointer;\n",
              "    display: none;\n",
              "    fill: var(--fill-color);\n",
              "    height: 32px;\n",
              "    padding: 0;\n",
              "    width: 32px;\n",
              "  }\n",
              "\n",
              "  .colab-df-quickchart:hover {\n",
              "    background-color: var(--hover-bg-color);\n",
              "    box-shadow: 0 1px 2px rgba(60, 64, 67, 0.3), 0 1px 3px 1px rgba(60, 64, 67, 0.15);\n",
              "    fill: var(--button-hover-fill-color);\n",
              "  }\n",
              "\n",
              "  .colab-df-quickchart-complete:disabled,\n",
              "  .colab-df-quickchart-complete:disabled:hover {\n",
              "    background-color: var(--disabled-bg-color);\n",
              "    fill: var(--disabled-fill-color);\n",
              "    box-shadow: none;\n",
              "  }\n",
              "\n",
              "  .colab-df-spinner {\n",
              "    border: 2px solid var(--fill-color);\n",
              "    border-color: transparent;\n",
              "    border-bottom-color: var(--fill-color);\n",
              "    animation:\n",
              "      spin 1s steps(1) infinite;\n",
              "  }\n",
              "\n",
              "  @keyframes spin {\n",
              "    0% {\n",
              "      border-color: transparent;\n",
              "      border-bottom-color: var(--fill-color);\n",
              "      border-left-color: var(--fill-color);\n",
              "    }\n",
              "    20% {\n",
              "      border-color: transparent;\n",
              "      border-left-color: var(--fill-color);\n",
              "      border-top-color: var(--fill-color);\n",
              "    }\n",
              "    30% {\n",
              "      border-color: transparent;\n",
              "      border-left-color: var(--fill-color);\n",
              "      border-top-color: var(--fill-color);\n",
              "      border-right-color: var(--fill-color);\n",
              "    }\n",
              "    40% {\n",
              "      border-color: transparent;\n",
              "      border-right-color: var(--fill-color);\n",
              "      border-top-color: var(--fill-color);\n",
              "    }\n",
              "    60% {\n",
              "      border-color: transparent;\n",
              "      border-right-color: var(--fill-color);\n",
              "    }\n",
              "    80% {\n",
              "      border-color: transparent;\n",
              "      border-right-color: var(--fill-color);\n",
              "      border-bottom-color: var(--fill-color);\n",
              "    }\n",
              "    90% {\n",
              "      border-color: transparent;\n",
              "      border-bottom-color: var(--fill-color);\n",
              "    }\n",
              "  }\n",
              "</style>\n",
              "\n",
              "  <script>\n",
              "    async function quickchart(key) {\n",
              "      const quickchartButtonEl =\n",
              "        document.querySelector('#' + key + ' button');\n",
              "      quickchartButtonEl.disabled = true;  // To prevent multiple clicks.\n",
              "      quickchartButtonEl.classList.add('colab-df-spinner');\n",
              "      try {\n",
              "        const charts = await google.colab.kernel.invokeFunction(\n",
              "            'suggestCharts', [key], {});\n",
              "      } catch (error) {\n",
              "        console.error('Error during call to suggestCharts:', error);\n",
              "      }\n",
              "      quickchartButtonEl.classList.remove('colab-df-spinner');\n",
              "      quickchartButtonEl.classList.add('colab-df-quickchart-complete');\n",
              "    }\n",
              "    (() => {\n",
              "      let quickchartButtonEl =\n",
              "        document.querySelector('#df-664bbe56-5ba5-4dcc-a67b-f10b086e809e button');\n",
              "      quickchartButtonEl.style.display =\n",
              "        google.colab.kernel.accessAllowed ? 'block' : 'none';\n",
              "    })();\n",
              "  </script>\n",
              "</div>\n",
              "\n",
              "    </div>\n",
              "  </div>\n"
            ],
            "application/vnd.google.colaboratory.intrinsic+json": {
              "type": "dataframe",
              "summary": "{\n  \"name\": \"df[cols]\",\n  \"rows\": 125,\n  \"fields\": [\n    {\n      \"column\": \"count\",\n      \"properties\": {\n        \"dtype\": \"number\",\n        \"std\": 0.0,\n        \"min\": 221.0,\n        \"max\": 221.0,\n        \"num_unique_values\": 1,\n        \"samples\": [\n          221.0\n        ],\n        \"semantic_type\": \"\",\n        \"description\": \"\"\n      }\n    },\n    {\n      \"column\": \"mean\",\n      \"properties\": {\n        \"dtype\": \"number\",\n        \"std\": 285.08331158719176,\n        \"min\": -43.1143773029784,\n        \"max\": 2972.6882164917974,\n        \"num_unique_values\": 120,\n        \"samples\": [\n          6.086982201993196\n        ],\n        \"semantic_type\": \"\",\n        \"description\": \"\"\n      }\n    },\n    {\n      \"column\": \"std\",\n      \"properties\": {\n        \"dtype\": \"number\",\n        \"std\": 122.28703196545956,\n        \"min\": 0.034789674738197454,\n        \"max\": 1299.5014601943083,\n        \"num_unique_values\": 120,\n        \"samples\": [\n          18.673768453176283\n        ],\n        \"semantic_type\": \"\",\n        \"description\": \"\"\n      }\n    },\n    {\n      \"column\": \"min\",\n      \"properties\": {\n        \"dtype\": \"number\",\n        \"std\": 46.28594535503617,\n        \"min\": -129.537167231623,\n        \"max\": 408.831654010613,\n        \"num_unique_values\": 58,\n        \"samples\": [\n          9.66783208840288\n        ],\n        \"semantic_type\": \"\",\n        \"description\": \"\"\n      }\n    },\n    {\n      \"column\": \"25%\",\n      \"properties\": {\n        \"dtype\": \"number\",\n        \"std\": 188.6558022119454,\n        \"min\": -60.9727307785242,\n        \"max\": 1932.85843156693,\n        \"num_unique_values\": 84,\n        \"samples\": [\n          32.0\n        ],\n        \"semantic_type\": \"\",\n        \"description\": \"\"\n      }\n    },\n    {\n      \"column\": \"50%\",\n      \"properties\": {\n        \"dtype\": \"number\",\n        \"std\": 301.7553704713742,\n        \"min\": -41.9569845820058,\n        \"max\": 3151.3025683118,\n        \"num_unique_values\": 91,\n        \"samples\": [\n          16.4871568147238\n        ],\n        \"semantic_type\": \"\",\n        \"description\": \"\"\n      }\n    },\n    {\n      \"column\": \"75%\",\n      \"properties\": {\n        \"dtype\": \"number\",\n        \"std\": 359.18696941450173,\n        \"min\": -18.617579032894,\n        \"max\": 3761.9224276471,\n        \"num_unique_values\": 98,\n        \"samples\": [\n          38.3562974725746\n        ],\n        \"semantic_type\": \"\",\n        \"description\": \"\"\n      }\n    },\n    {\n      \"column\": \"max\",\n      \"properties\": {\n        \"dtype\": \"number\",\n        \"std\": 569.9503824306489,\n        \"min\": -2.12413526449324,\n        \"max\": 6017.92424365094,\n        \"num_unique_values\": 96,\n        \"samples\": [\n          5.0\n        ],\n        \"semantic_type\": \"\",\n        \"description\": \"\"\n      }\n    }\n  ]\n}"
            }
          },
          "metadata": {},
          "execution_count": 9
        }
      ]
    },
    {
      "cell_type": "code",
      "source": [
        "# Suma del recuento de objetos nulos en todas las columnas utilizadas\n",
        "np.sum(pd.isnull(df[cols]).sum())"
      ],
      "metadata": {
        "colab": {
          "base_uri": "https://localhost:8080/"
        },
        "id": "11S8445NIQMX",
        "outputId": "1bc65350-560c-4706-b85d-a1781a931af6"
      },
      "execution_count": 10,
      "outputs": [
        {
          "output_type": "execute_result",
          "data": {
            "text/plain": [
              "0"
            ]
          },
          "metadata": {},
          "execution_count": 10
        }
      ]
    },
    {
      "cell_type": "code",
      "source": [
        "# Observar la distribución de los targets\n",
        "fig, axes = plt.subplots(nrows=1, ncols=len(targetslist), figsize=(15, 5))\n",
        "\n",
        "for i, column in enumerate(targetslist):\n",
        "    sns.countplot(x=column, data=df[cols], ax=axes[i])\n",
        "    axes[i].set_title(column)\n",
        "\n",
        "plt.tight_layout()\n",
        "plt.show()"
      ],
      "metadata": {
        "colab": {
          "base_uri": "https://localhost:8080/",
          "height": 507
        },
        "id": "8tpBmOu32-8p",
        "outputId": "85bd2909-f9b4-446e-b76d-5ae3ebf28178"
      },
      "execution_count": 11,
      "outputs": [
        {
          "output_type": "display_data",
          "data": {
            "text/plain": [
              "<Figure size 1500x500 with 7 Axes>"
            ],
            "image/png": "[encoded data removed]"
          },
          "metadata": {}
        }
      ]
    },
    {
      "cell_type": "code",
      "source": [
        "# 'a-hydroxycarboxylate','phenolate','citrate','other' están desbalanceados, por\n",
        "# lo que no serán consideradas.\n",
        "notarget=['a-hydroxycarboxylate','phenolate','citrate','other']\n",
        "targetslist=[x for x in targetslist if x not in notarget]\n",
        "print(targetslist)"
      ],
      "metadata": {
        "colab": {
          "base_uri": "https://localhost:8080/"
        },
        "id": "jJH04qgN4bmo",
        "outputId": "57cc8e25-4a1b-405d-cd62-8c273cc41067"
      },
      "execution_count": 12,
      "outputs": [
        {
          "output_type": "stream",
          "name": "stdout",
          "text": [
            "['hydroxamate', 'catecholate', 'carboxylate']\n"
          ]
        }
      ]
    },
    {
      "cell_type": "code",
      "source": [
        "# Por otro lado, del resto de columnas colo se considerará la presencia o\n",
        "# ausencia de los grupos quelantes, debido a que también hay un desbalance\n",
        "for col in targetslist:\n",
        "  df[col+'_target'] = df[col].apply(lambda x: 1 if x > 0 else x)\n",
        "targetslist=[x+'_target' for x in targetslist]\n",
        "print(targetslist)"
      ],
      "metadata": {
        "colab": {
          "base_uri": "https://localhost:8080/"
        },
        "id": "_IIsavGj6DN1",
        "outputId": "a4d98ae3-2fb5-4484-b229-dc49e617fddb"
      },
      "execution_count": 13,
      "outputs": [
        {
          "output_type": "stream",
          "name": "stdout",
          "text": [
            "['hydroxamate_target', 'catecholate_target', 'carboxylate_target']\n"
          ]
        }
      ]
    },
    {
      "cell_type": "code",
      "source": [
        "# Observar la nueva distribución de los targets\n",
        "fig, axes = plt.subplots(nrows=1, ncols=len(targetslist), figsize=(15, 5))\n",
        "for i, column in enumerate(targetslist):\n",
        "    sns.countplot(x=column, data=df[targetslist], ax=axes[i])\n",
        "    axes[i].set_title(column)\n",
        "\n",
        "plt.tight_layout()\n",
        "plt.show()"
      ],
      "metadata": {
        "colab": {
          "base_uri": "https://localhost:8080/",
          "height": 507
        },
        "id": "ToQ4WbYa71p3",
        "outputId": "781d1ef3-d1f9-430d-f9d3-8dfcabbaa8ba"
      },
      "execution_count": 14,
      "outputs": [
        {
          "output_type": "display_data",
          "data": {
            "text/plain": [
              "<Figure size 1500x500 with 3 Axes>"
            ],
            "image/png": "[encoded data removed]"
          },
          "metadata": {}
        }
      ]
    },
    {
      "cell_type": "code",
      "source": [
        "df_feat=df[featureslist]\n",
        "df_feat.info()\n",
        "df_feat.head()"
      ],
      "metadata": {
        "colab": {
          "base_uri": "https://localhost:8080/",
          "height": 346
        },
        "id": "IfGDLqeE8TMU",
        "outputId": "2826b07f-0abd-4ad1-e650-7229f07035f3"
      },
      "execution_count": 15,
      "outputs": [
        {
          "output_type": "stream",
          "name": "stdout",
          "text": [
            "<class 'pandas.core.frame.DataFrame'>\n",
            "RangeIndex: 221 entries, 0 to 220\n",
            "Columns: 118 entries, MaxEStateIndex to fr_phenol_noOrthoHbond\n",
            "dtypes: float64(86), int64(32)\n",
            "memory usage: 203.9 KB\n"
          ]
        },
        {
          "output_type": "execute_result",
          "data": {
            "text/plain": [
              "   MaxEStateIndex  MinEStateIndex  MaxAbsEStateIndex  MinAbsEStateIndex  \\\n",
              "0       11.191262       -1.343472          11.191262           0.665370   \n",
              "1       12.228676       -3.436129          12.228676           0.586755   \n",
              "2       12.627825       -3.816337          12.627825           0.758838   \n",
              "3       12.854441       -4.102795          12.854441           0.884463   \n",
              "4       11.108779       -1.310880          11.108779           0.630759   \n",
              "\n",
              "        qed    MolWt  HeavyAtomMolWt  ExactMolWt  NumValenceElectrons  \\\n",
              "0  0.522491  154.121         148.073  154.026609                   58   \n",
              "1  0.522624  211.173         202.101  211.048072                   80   \n",
              "2  0.442264  241.199         230.111  241.058637                   92   \n",
              "3  0.468346  255.226         242.122  255.074287                   98   \n",
              "4  0.610259  138.122         132.074  138.031694                   52   \n",
              "\n",
              "   MaxPartialCharge  ...  fr_NH0  fr_NH1  fr_NH2  fr_N_O  fr_amide  \\\n",
              "0          0.339119  ...       0       0       0       0         0   \n",
              "1          0.322481  ...       0       1       0       0         1   \n",
              "2          0.328131  ...       0       1       0       0         1   \n",
              "3          0.328426  ...       0       1       0       0         1   \n",
              "4          0.338969  ...       0       0       0       0         0   \n",
              "\n",
              "   fr_benzene  fr_ester  fr_para_hydroxylation  fr_phenol  \\\n",
              "0           1         0                      1          2   \n",
              "1           1         0                      1          2   \n",
              "2           1         0                      1          2   \n",
              "3           1         0                      1          2   \n",
              "4           1         0                      1          1   \n",
              "\n",
              "   fr_phenol_noOrthoHbond  \n",
              "0                       1  \n",
              "1                       2  \n",
              "2                       2  \n",
              "3                       2  \n",
              "4                       0  \n",
              "\n",
              "[5 rows x 118 columns]"
            ],
            "text/html": [
              "\n",
              "  <div id=\"df-f0cbd147-7f96-4558-8598-ae5299c85c8f\" class=\"colab-df-container\">\n",
              "    <div>\n",
              "<style scoped>\n",
              "    .dataframe tbody tr th:only-of-type {\n",
              "        vertical-align: middle;\n",
              "    }\n",
              "\n",
              "    .dataframe tbody tr th {\n",
              "        vertical-align: top;\n",
              "    }\n",
              "\n",
              "    .dataframe thead th {\n",
              "        text-align: right;\n",
              "    }\n",
              "</style>\n",
              "<table border=\"1\" class=\"dataframe\">\n",
              "  <thead>\n",
              "    <tr style=\"text-align: right;\">\n",
              "      <th></th>\n",
              "      <th>MaxEStateIndex</th>\n",
              "      <th>MinEStateIndex</th>\n",
              "      <th>MaxAbsEStateIndex</th>\n",
              "      <th>MinAbsEStateIndex</th>\n",
              "      <th>qed</th>\n",
              "      <th>MolWt</th>\n",
              "      <th>HeavyAtomMolWt</th>\n",
              "      <th>ExactMolWt</th>\n",
              "      <th>NumValenceElectrons</th>\n",
              "      <th>MaxPartialCharge</th>\n",
              "      <th>...</th>\n",
              "      <th>fr_NH0</th>\n",
              "      <th>fr_NH1</th>\n",
              "      <th>fr_NH2</th>\n",
              "      <th>fr_N_O</th>\n",
              "      <th>fr_amide</th>\n",
              "      <th>fr_benzene</th>\n",
              "      <th>fr_ester</th>\n",
              "      <th>fr_para_hydroxylation</th>\n",
              "      <th>fr_phenol</th>\n",
              "      <th>fr_phenol_noOrthoHbond</th>\n",
              "    </tr>\n",
              "  </thead>\n",
              "  <tbody>\n",
              "    <tr>\n",
              "      <th>0</th>\n",
              "      <td>11.191262</td>\n",
              "      <td>-1.343472</td>\n",
              "      <td>11.191262</td>\n",
              "      <td>0.665370</td>\n",
              "      <td>0.522491</td>\n",
              "      <td>154.121</td>\n",
              "      <td>148.073</td>\n",
              "      <td>154.026609</td>\n",
              "      <td>58</td>\n",
              "      <td>0.339119</td>\n",
              "      <td>...</td>\n",
              "      <td>0</td>\n",
              "      <td>0</td>\n",
              "      <td>0</td>\n",
              "      <td>0</td>\n",
              "      <td>0</td>\n",
              "      <td>1</td>\n",
              "      <td>0</td>\n",
              "      <td>1</td>\n",
              "      <td>2</td>\n",
              "      <td>1</td>\n",
              "    </tr>\n",
              "    <tr>\n",
              "      <th>1</th>\n",
              "      <td>12.228676</td>\n",
              "      <td>-3.436129</td>\n",
              "      <td>12.228676</td>\n",
              "      <td>0.586755</td>\n",
              "      <td>0.522624</td>\n",
              "      <td>211.173</td>\n",
              "      <td>202.101</td>\n",
              "      <td>211.048072</td>\n",
              "      <td>80</td>\n",
              "      <td>0.322481</td>\n",
              "      <td>...</td>\n",
              "      <td>0</td>\n",
              "      <td>1</td>\n",
              "      <td>0</td>\n",
              "      <td>0</td>\n",
              "      <td>1</td>\n",
              "      <td>1</td>\n",
              "      <td>0</td>\n",
              "      <td>1</td>\n",
              "      <td>2</td>\n",
              "      <td>2</td>\n",
              "    </tr>\n",
              "    <tr>\n",
              "      <th>2</th>\n",
              "      <td>12.627825</td>\n",
              "      <td>-3.816337</td>\n",
              "      <td>12.627825</td>\n",
              "      <td>0.758838</td>\n",
              "      <td>0.442264</td>\n",
              "      <td>241.199</td>\n",
              "      <td>230.111</td>\n",
              "      <td>241.058637</td>\n",
              "      <td>92</td>\n",
              "      <td>0.328131</td>\n",
              "      <td>...</td>\n",
              "      <td>0</td>\n",
              "      <td>1</td>\n",
              "      <td>0</td>\n",
              "      <td>0</td>\n",
              "      <td>1</td>\n",
              "      <td>1</td>\n",
              "      <td>0</td>\n",
              "      <td>1</td>\n",
              "      <td>2</td>\n",
              "      <td>2</td>\n",
              "    </tr>\n",
              "    <tr>\n",
              "      <th>3</th>\n",
              "      <td>12.854441</td>\n",
              "      <td>-4.102795</td>\n",
              "      <td>12.854441</td>\n",
              "      <td>0.884463</td>\n",
              "      <td>0.468346</td>\n",
              "      <td>255.226</td>\n",
              "      <td>242.122</td>\n",
              "      <td>255.074287</td>\n",
              "      <td>98</td>\n",
              "      <td>0.328426</td>\n",
              "      <td>...</td>\n",
              "      <td>0</td>\n",
              "      <td>1</td>\n",
              "      <td>0</td>\n",
              "      <td>0</td>\n",
              "      <td>1</td>\n",
              "      <td>1</td>\n",
              "      <td>0</td>\n",
              "      <td>1</td>\n",
              "      <td>2</td>\n",
              "      <td>2</td>\n",
              "    </tr>\n",
              "    <tr>\n",
              "      <th>4</th>\n",
              "      <td>11.108779</td>\n",
              "      <td>-1.310880</td>\n",
              "      <td>11.108779</td>\n",
              "      <td>0.630759</td>\n",
              "      <td>0.610259</td>\n",
              "      <td>138.122</td>\n",
              "      <td>132.074</td>\n",
              "      <td>138.031694</td>\n",
              "      <td>52</td>\n",
              "      <td>0.338969</td>\n",
              "      <td>...</td>\n",
              "      <td>0</td>\n",
              "      <td>0</td>\n",
              "      <td>0</td>\n",
              "      <td>0</td>\n",
              "      <td>0</td>\n",
              "      <td>1</td>\n",
              "      <td>0</td>\n",
              "      <td>1</td>\n",
              "      <td>1</td>\n",
              "      <td>0</td>\n",
              "    </tr>\n",
              "  </tbody>\n",
              "</table>\n",
              "<p>5 rows × 118 columns</p>\n",
              "</div>\n",
              "    <div class=\"colab-df-buttons\">\n",
              "\n",
              "  <div class=\"colab-df-container\">\n",
              "    <button class=\"colab-df-convert\" onclick=\"convertToInteractive('df-f0cbd147-7f96-4558-8598-ae5299c85c8f')\"\n",
              "            title=\"Convert this dataframe to an interactive table.\"\n",
              "            style=\"display:none;\">\n",
              "\n",
              "  <svg xmlns=\"http://www.w3.org/2000/svg\" height=\"24px\" viewBox=\"0 -960 960 960\">\n",
              "    <path d=\"M120-120v-720h720v720H120Zm60-500h600v-160H180v160Zm220 220h160v-160H400v160Zm0 220h160v-160H400v160ZM180-400h160v-160H180v160Zm440 0h160v-160H620v160ZM180-180h160v-160H180v160Zm440 0h160v-160H620v160Z\"/>\n",
              "  </svg>\n",
              "    </button>\n",
              "\n",
              "  <style>\n",
              "    .colab-df-container {\n",
              "      display:flex;\n",
              "      gap: 12px;\n",
              "    }\n",
              "\n",
              "    .colab-df-convert {\n",
              "      background-color: #E8F0FE;\n",
              "      border: none;\n",
              "      border-radius: 50%;\n",
              "      cursor: pointer;\n",
              "      display: none;\n",
              "      fill: #1967D2;\n",
              "      height: 32px;\n",
              "      padding: 0 0 0 0;\n",
              "      width: 32px;\n",
              "    }\n",
              "\n",
              "    .colab-df-convert:hover {\n",
              "      background-color: #E2EBFA;\n",
              "      box-shadow: 0px 1px 2px rgba(60, 64, 67, 0.3), 0px 1px 3px 1px rgba(60, 64, 67, 0.15);\n",
              "      fill: #174EA6;\n",
              "    }\n",
              "\n",
              "    .colab-df-buttons div {\n",
              "      margin-bottom: 4px;\n",
              "    }\n",
              "\n",
              "    [theme=dark] .colab-df-convert {\n",
              "      background-color: #3B4455;\n",
              "      fill: #D2E3FC;\n",
              "    }\n",
              "\n",
              "    [theme=dark] .colab-df-convert:hover {\n",
              "      background-color: #434B5C;\n",
              "      box-shadow: 0px 1px 3px 1px rgba(0, 0, 0, 0.15);\n",
              "      filter: drop-shadow(0px 1px 2px rgba(0, 0, 0, 0.3));\n",
              "      fill: #FFFFFF;\n",
              "    }\n",
              "  </style>\n",
              "\n",
              "    <script>\n",
              "      const buttonEl =\n",
              "        document.querySelector('#df-f0cbd147-7f96-4558-8598-ae5299c85c8f button.colab-df-convert');\n",
              "      buttonEl.style.display =\n",
              "        google.colab.kernel.accessAllowed ? 'block' : 'none';\n",
              "\n",
              "      async function convertToInteractive(key) {\n",
              "        const element = document.querySelector('#df-f0cbd147-7f96-4558-8598-ae5299c85c8f');\n",
              "        const dataTable =\n",
              "          await google.colab.kernel.invokeFunction('convertToInteractive',\n",
              "                                                    [key], {});\n",
              "        if (!dataTable) return;\n",
              "\n",
              "        const docLinkHtml = 'Like what you see? Visit the ' +\n",
              "          '<a target=\"_blank\" href=https://colab.research.google.com/notebooks/data_table.ipynb>data table notebook</a>'\n",
              "          + ' to learn more about interactive tables.';\n",
              "        element.innerHTML = '';\n",
              "        dataTable['output_type'] = 'display_data';\n",
              "        await google.colab.output.renderOutput(dataTable, element);\n",
              "        const docLink = document.createElement('div');\n",
              "        docLink.innerHTML = docLinkHtml;\n",
              "        element.appendChild(docLink);\n",
              "      }\n",
              "    </script>\n",
              "  </div>\n",
              "\n",
              "\n",
              "<div id=\"df-f04362ac-e04e-4075-9844-b0f0fb69aa0c\">\n",
              "  <button class=\"colab-df-quickchart\" onclick=\"quickchart('df-f04362ac-e04e-4075-9844-b0f0fb69aa0c')\"\n",
              "            title=\"Suggest charts\"\n",
              "            style=\"display:none;\">\n",
              "\n",
              "<svg xmlns=\"http://www.w3.org/2000/svg\" height=\"24px\"viewBox=\"0 0 24 24\"\n",
              "     width=\"24px\">\n",
              "    <g>\n",
              "        <path d=\"M19 3H5c-1.1 0-2 .9-2 2v14c0 1.1.9 2 2 2h14c1.1 0 2-.9 2-2V5c0-1.1-.9-2-2-2zM9 17H7v-7h2v7zm4 0h-2V7h2v10zm4 0h-2v-4h2v4z\"/>\n",
              "    </g>\n",
              "</svg>\n",
              "  </button>\n",
              "\n",
              "<style>\n",
              "  .colab-df-quickchart {\n",
              "      --bg-color: #E8F0FE;\n",
              "      --fill-color: #1967D2;\n",
              "      --hover-bg-color: #E2EBFA;\n",
              "      --hover-fill-color: #174EA6;\n",
              "      --disabled-fill-color: #AAA;\n",
              "      --disabled-bg-color: #DDD;\n",
              "  }\n",
              "\n",
              "  [theme=dark] .colab-df-quickchart {\n",
              "      --bg-color: #3B4455;\n",
              "      --fill-color: #D2E3FC;\n",
              "      --hover-bg-color: #434B5C;\n",
              "      --hover-fill-color: #FFFFFF;\n",
              "      --disabled-bg-color: #3B4455;\n",
              "      --disabled-fill-color: #666;\n",
              "  }\n",
              "\n",
              "  .colab-df-quickchart {\n",
              "    background-color: var(--bg-color);\n",
              "    border: none;\n",
              "    border-radius: 50%;\n",
              "    cursor: pointer;\n",
              "    display: none;\n",
              "    fill: var(--fill-color);\n",
              "    height: 32px;\n",
              "    padding: 0;\n",
              "    width: 32px;\n",
              "  }\n",
              "\n",
              "  .colab-df-quickchart:hover {\n",
              "    background-color: var(--hover-bg-color);\n",
              "    box-shadow: 0 1px 2px rgba(60, 64, 67, 0.3), 0 1px 3px 1px rgba(60, 64, 67, 0.15);\n",
              "    fill: var(--button-hover-fill-color);\n",
              "  }\n",
              "\n",
              "  .colab-df-quickchart-complete:disabled,\n",
              "  .colab-df-quickchart-complete:disabled:hover {\n",
              "    background-color: var(--disabled-bg-color);\n",
              "    fill: var(--disabled-fill-color);\n",
              "    box-shadow: none;\n",
              "  }\n",
              "\n",
              "  .colab-df-spinner {\n",
              "    border: 2px solid var(--fill-color);\n",
              "    border-color: transparent;\n",
              "    border-bottom-color: var(--fill-color);\n",
              "    animation:\n",
              "      spin 1s steps(1) infinite;\n",
              "  }\n",
              "\n",
              "  @keyframes spin {\n",
              "    0% {\n",
              "      border-color: transparent;\n",
              "      border-bottom-color: var(--fill-color);\n",
              "      border-left-color: var(--fill-color);\n",
              "    }\n",
              "    20% {\n",
              "      border-color: transparent;\n",
              "      border-left-color: var(--fill-color);\n",
              "      border-top-color: var(--fill-color);\n",
              "    }\n",
              "    30% {\n",
              "      border-color: transparent;\n",
              "      border-left-color: var(--fill-color);\n",
              "      border-top-color: var(--fill-color);\n",
              "      border-right-color: var(--fill-color);\n",
              "    }\n",
              "    40% {\n",
              "      border-color: transparent;\n",
              "      border-right-color: var(--fill-color);\n",
              "      border-top-color: var(--fill-color);\n",
              "    }\n",
              "    60% {\n",
              "      border-color: transparent;\n",
              "      border-right-color: var(--fill-color);\n",
              "    }\n",
              "    80% {\n",
              "      border-color: transparent;\n",
              "      border-right-color: var(--fill-color);\n",
              "      border-bottom-color: var(--fill-color);\n",
              "    }\n",
              "    90% {\n",
              "      border-color: transparent;\n",
              "      border-bottom-color: var(--fill-color);\n",
              "    }\n",
              "  }\n",
              "</style>\n",
              "\n",
              "  <script>\n",
              "    async function quickchart(key) {\n",
              "      const quickchartButtonEl =\n",
              "        document.querySelector('#' + key + ' button');\n",
              "      quickchartButtonEl.disabled = true;  // To prevent multiple clicks.\n",
              "      quickchartButtonEl.classList.add('colab-df-spinner');\n",
              "      try {\n",
              "        const charts = await google.colab.kernel.invokeFunction(\n",
              "            'suggestCharts', [key], {});\n",
              "      } catch (error) {\n",
              "        console.error('Error during call to suggestCharts:', error);\n",
              "      }\n",
              "      quickchartButtonEl.classList.remove('colab-df-spinner');\n",
              "      quickchartButtonEl.classList.add('colab-df-quickchart-complete');\n",
              "    }\n",
              "    (() => {\n",
              "      let quickchartButtonEl =\n",
              "        document.querySelector('#df-f04362ac-e04e-4075-9844-b0f0fb69aa0c button');\n",
              "      quickchartButtonEl.style.display =\n",
              "        google.colab.kernel.accessAllowed ? 'block' : 'none';\n",
              "    })();\n",
              "  </script>\n",
              "</div>\n",
              "\n",
              "    </div>\n",
              "  </div>\n"
            ],
            "application/vnd.google.colaboratory.intrinsic+json": {
              "type": "dataframe",
              "variable_name": "df_feat"
            }
          },
          "metadata": {},
          "execution_count": 15
        }
      ]
    },
    {
      "cell_type": "code",
      "source": [
        "# Se hará una clasificación para cada target, es decir se intentará predecir la\n",
        "# presencia o ausencia de cada grupo independientemente\n",
        "df_target0=df[targetslist[0]]\n",
        "df_target1=df[targetslist[1]]\n",
        "df_target2=df[targetslist[2]]\n",
        "df_target0.info()\n",
        "df_target0.head()"
      ],
      "metadata": {
        "colab": {
          "base_uri": "https://localhost:8080/"
        },
        "id": "KCn9l6UW4S2b",
        "outputId": "fa834f36-ad20-4c7f-81a8-cdd98e7592c9"
      },
      "execution_count": 16,
      "outputs": [
        {
          "output_type": "stream",
          "name": "stdout",
          "text": [
            "<class 'pandas.core.series.Series'>\n",
            "RangeIndex: 221 entries, 0 to 220\n",
            "Series name: hydroxamate_target\n",
            "Non-Null Count  Dtype\n",
            "--------------  -----\n",
            "221 non-null    int64\n",
            "dtypes: int64(1)\n",
            "memory usage: 1.9 KB\n"
          ]
        },
        {
          "output_type": "execute_result",
          "data": {
            "text/plain": [
              "0    0\n",
              "1    0\n",
              "2    0\n",
              "3    0\n",
              "4    0\n",
              "Name: hydroxamate_target, dtype: int64"
            ]
          },
          "metadata": {},
          "execution_count": 16
        }
      ]
    },
    {
      "cell_type": "markdown",
      "source": [
        "## Entrenamiento y predicción"
      ],
      "metadata": {
        "id": "n1qpWbS_SyYp"
      }
    },
    {
      "cell_type": "code",
      "source": [
        "#@title import libraries\n",
        "from sklearn.model_selection import train_test_split, cross_val_score\n",
        "from sklearn.svm import SVC\n",
        "from sklearn.metrics import classification_report,confusion_matrix\n",
        "# undersampling\n",
        "from imblearn.under_sampling import RandomUnderSampler"
      ],
      "metadata": {
        "cellView": "form",
        "id": "Lv7ZEzt2CXls"
      },
      "execution_count": 17,
      "outputs": []
    },
    {
      "cell_type": "markdown",
      "source": [
        "### hydroxamate_target"
      ],
      "metadata": {
        "id": "cfuOt2eTLAhB"
      }
    },
    {
      "cell_type": "code",
      "source": [
        "#@title no stratify, no undersampling\n",
        "X_train, X_test, y_train, y_test = train_test_split(df_feat, df_target0, test_size=0.30, random_state=101)\n",
        "model = SVC()\n",
        "# Realizar validación cruzada\n",
        "cv_scores = cross_val_score(model, X_train, y_train, cv=5)\n",
        "\n",
        "print(\"Cross-validation scores:\", cv_scores)\n",
        "print(\"Mean cross-validation score:\", cv_scores.mean())\n",
        "\n",
        "model.fit(X_train,y_train)\n",
        "\n",
        "predictions = model.predict(X_test)\n",
        "\n",
        "print('\\nMatriz de confusión')\n",
        "print(confusion_matrix(y_test,predictions))\n",
        "\n",
        "print('\\nReporte de clasificación')\n",
        "print(classification_report(y_test,predictions))"
      ],
      "metadata": {
        "colab": {
          "base_uri": "https://localhost:8080/"
        },
        "cellView": "form",
        "id": "0VxD97vALRZz",
        "outputId": "4ad01215-33bb-4816-8172-21ecfd3cb59f"
      },
      "execution_count": 18,
      "outputs": [
        {
          "output_type": "stream",
          "name": "stdout",
          "text": [
            "Cross-validation scores: [0.61290323 0.61290323 0.67741935 0.70967742 0.63333333]\n",
            "Mean cross-validation score: 0.649247311827957\n",
            "\n",
            "Matriz de confusión\n",
            "[[ 9 18]\n",
            " [ 3 37]]\n",
            "\n",
            "Reporte de clasificación\n",
            "              precision    recall  f1-score   support\n",
            "\n",
            "           0       0.75      0.33      0.46        27\n",
            "           1       0.67      0.93      0.78        40\n",
            "\n",
            "    accuracy                           0.69        67\n",
            "   macro avg       0.71      0.63      0.62        67\n",
            "weighted avg       0.70      0.69      0.65        67\n",
            "\n"
          ]
        }
      ]
    },
    {
      "cell_type": "code",
      "source": [
        "#@title stratify\n",
        "X_train, X_test, y_train, y_test = train_test_split(df_feat, df_target0, test_size=0.30, random_state=101,stratify=df_target0)\n",
        "model = SVC()\n",
        "# Realizar validación cruzada\n",
        "cv_scores = cross_val_score(model, X_train, y_train, cv=5)\n",
        "\n",
        "print(\"Cross-validation scores:\", cv_scores)\n",
        "print(\"Mean cross-validation score:\", cv_scores.mean())\n",
        "\n",
        "model.fit(X_train,y_train)\n",
        "\n",
        "predictions = model.predict(X_test)\n",
        "\n",
        "print('\\nMatriz de confusión')\n",
        "print(confusion_matrix(y_test,predictions))\n",
        "\n",
        "print('\\nReporte de clasificación')\n",
        "print(classification_report(y_test,predictions))"
      ],
      "metadata": {
        "colab": {
          "base_uri": "https://localhost:8080/"
        },
        "cellView": "form",
        "id": "Oafz7kFkCe1o",
        "outputId": "e2548c7b-3093-4c6d-c70a-14abb9de7800"
      },
      "execution_count": 19,
      "outputs": [
        {
          "output_type": "stream",
          "name": "stdout",
          "text": [
            "Cross-validation scores: [0.64516129 0.58064516 0.67741935 0.64516129 0.76666667]\n",
            "Mean cross-validation score: 0.663010752688172\n",
            "\n",
            "Matriz de confusión\n",
            "[[13 15]\n",
            " [ 6 33]]\n",
            "\n",
            "Reporte de clasificación\n",
            "              precision    recall  f1-score   support\n",
            "\n",
            "           0       0.68      0.46      0.55        28\n",
            "           1       0.69      0.85      0.76        39\n",
            "\n",
            "    accuracy                           0.69        67\n",
            "   macro avg       0.69      0.66      0.66        67\n",
            "weighted avg       0.69      0.69      0.67        67\n",
            "\n"
          ]
        }
      ]
    },
    {
      "cell_type": "code",
      "source": [
        "#@title undersampling\n",
        "\n",
        "# undersampling\n",
        "undersampler = RandomUnderSampler(random_state=42)\n",
        "df_feat0_us, df_target0 = undersampler.fit_resample(df_feat, df_target0)\n",
        "\n",
        "X_train, X_test, y_train, y_test = train_test_split(df_feat0_us, df_target0, test_size=0.30, random_state=101)\n",
        "\n",
        "model = SVC()\n",
        "# Realizar validación cruzada\n",
        "cv_scores = cross_val_score(model, X_train, y_train, cv=5)\n",
        "\n",
        "print(\"Cross-validation scores:\", cv_scores)\n",
        "print(\"Mean cross-validation score:\", cv_scores.mean())\n",
        "\n",
        "model.fit(X_train,y_train)\n",
        "\n",
        "predictions = model.predict(X_test)\n",
        "\n",
        "print('\\nMatriz de confusión')\n",
        "print(confusion_matrix(y_test,predictions))\n",
        "\n",
        "print('\\nReporte de clasificación')\n",
        "print(classification_report(y_test,predictions))"
      ],
      "metadata": {
        "colab": {
          "base_uri": "https://localhost:8080/"
        },
        "cellView": "form",
        "id": "xwsHz4pCLd9l",
        "outputId": "a10598da-0ff7-4b55-942b-987caa703354"
      },
      "execution_count": 20,
      "outputs": [
        {
          "output_type": "stream",
          "name": "stdout",
          "text": [
            "Cross-validation scores: [0.61538462 0.84615385 0.6        0.84       0.56      ]\n",
            "Mean cross-validation score: 0.6923076923076923\n",
            "\n",
            "Matriz de confusión\n",
            "[[10 18]\n",
            " [ 8 19]]\n",
            "\n",
            "Reporte de clasificación\n",
            "              precision    recall  f1-score   support\n",
            "\n",
            "           0       0.56      0.36      0.43        28\n",
            "           1       0.51      0.70      0.59        27\n",
            "\n",
            "    accuracy                           0.53        55\n",
            "   macro avg       0.53      0.53      0.51        55\n",
            "weighted avg       0.53      0.53      0.51        55\n",
            "\n"
          ]
        }
      ]
    },
    {
      "cell_type": "markdown",
      "source": [
        "### catecholate_target"
      ],
      "metadata": {
        "id": "QOfMLdePLLY8"
      }
    },
    {
      "cell_type": "code",
      "source": [
        "#@title no stratify, no undersampling\n",
        "X_train, X_test, y_train, y_test = train_test_split(df_feat, df_target1, test_size=0.30, random_state=101)\n",
        "model = SVC()\n",
        "# Realizar validación cruzada\n",
        "cv_scores = cross_val_score(model, X_train, y_train, cv=5)\n",
        "\n",
        "print(\"Cross-validation scores:\", cv_scores)\n",
        "print(\"Mean cross-validation score:\", cv_scores.mean())\n",
        "\n",
        "model.fit(X_train,y_train)\n",
        "\n",
        "predictions = model.predict(X_test)\n",
        "\n",
        "print('\\nMatriz de confusión')\n",
        "print(confusion_matrix(y_test,predictions))\n",
        "\n",
        "print('\\nReporte de clasificación')\n",
        "print(classification_report(y_test,predictions))"
      ],
      "metadata": {
        "colab": {
          "base_uri": "https://localhost:8080/"
        },
        "cellView": "form",
        "outputId": "a2e5d70d-cc02-47b8-a3f6-09b2aab3878a",
        "id": "dczFFBAlMeMg"
      },
      "execution_count": 21,
      "outputs": [
        {
          "output_type": "stream",
          "name": "stdout",
          "text": [
            "Cross-validation scores: [0.67741935 0.67741935 0.67741935 0.67741935 0.66666667]\n",
            "Mean cross-validation score: 0.675268817204301\n",
            "\n",
            "Matriz de confusión\n",
            "[[49  0]\n",
            " [18  0]]\n",
            "\n",
            "Reporte de clasificación\n",
            "              precision    recall  f1-score   support\n",
            "\n",
            "           0       0.73      1.00      0.84        49\n",
            "           1       0.00      0.00      0.00        18\n",
            "\n",
            "    accuracy                           0.73        67\n",
            "   macro avg       0.37      0.50      0.42        67\n",
            "weighted avg       0.53      0.73      0.62        67\n",
            "\n"
          ]
        },
        {
          "output_type": "stream",
          "name": "stderr",
          "text": [
            "/usr/local/lib/python3.10/dist-packages/sklearn/metrics/_classification.py:1344: UndefinedMetricWarning: Precision and F-score are ill-defined and being set to 0.0 in labels with no predicted samples. Use `zero_division` parameter to control this behavior.\n",
            "  _warn_prf(average, modifier, msg_start, len(result))\n",
            "/usr/local/lib/python3.10/dist-packages/sklearn/metrics/_classification.py:1344: UndefinedMetricWarning: Precision and F-score are ill-defined and being set to 0.0 in labels with no predicted samples. Use `zero_division` parameter to control this behavior.\n",
            "  _warn_prf(average, modifier, msg_start, len(result))\n",
            "/usr/local/lib/python3.10/dist-packages/sklearn/metrics/_classification.py:1344: UndefinedMetricWarning: Precision and F-score are ill-defined and being set to 0.0 in labels with no predicted samples. Use `zero_division` parameter to control this behavior.\n",
            "  _warn_prf(average, modifier, msg_start, len(result))\n"
          ]
        }
      ]
    },
    {
      "cell_type": "code",
      "source": [
        "#@title stratify\n",
        "X_train, X_test, y_train, y_test = train_test_split(df_feat, df_target1, test_size=0.30, random_state=101,stratify=df_target1)\n",
        "model = SVC()\n",
        "# Realizar validación cruzada\n",
        "cv_scores = cross_val_score(model, X_train, y_train, cv=5)\n",
        "\n",
        "print(\"Cross-validation scores:\", cv_scores)\n",
        "print(\"Mean cross-validation score:\", cv_scores.mean())\n",
        "\n",
        "model.fit(X_train,y_train)\n",
        "\n",
        "predictions = model.predict(X_test)\n",
        "\n",
        "print('\\nMatriz de confusión')\n",
        "print(confusion_matrix(y_test,predictions))\n",
        "\n",
        "print('\\nReporte de clasificación')\n",
        "print(classification_report(y_test,predictions))"
      ],
      "metadata": {
        "colab": {
          "base_uri": "https://localhost:8080/"
        },
        "cellView": "form",
        "outputId": "2997ff20-fe55-484e-c449-e087ec961862",
        "id": "nNSzlMWGMeMh"
      },
      "execution_count": 22,
      "outputs": [
        {
          "output_type": "stream",
          "name": "stdout",
          "text": [
            "Cross-validation scores: [0.70967742 0.70967742 0.67741935 0.67741935 0.7       ]\n",
            "Mean cross-validation score: 0.6948387096774192\n",
            "\n",
            "Matriz de confusión\n",
            "[[46  0]\n",
            " [21  0]]\n",
            "\n",
            "Reporte de clasificación\n",
            "              precision    recall  f1-score   support\n",
            "\n",
            "           0       0.69      1.00      0.81        46\n",
            "           1       0.00      0.00      0.00        21\n",
            "\n",
            "    accuracy                           0.69        67\n",
            "   macro avg       0.34      0.50      0.41        67\n",
            "weighted avg       0.47      0.69      0.56        67\n",
            "\n"
          ]
        },
        {
          "output_type": "stream",
          "name": "stderr",
          "text": [
            "/usr/local/lib/python3.10/dist-packages/sklearn/metrics/_classification.py:1344: UndefinedMetricWarning: Precision and F-score are ill-defined and being set to 0.0 in labels with no predicted samples. Use `zero_division` parameter to control this behavior.\n",
            "  _warn_prf(average, modifier, msg_start, len(result))\n",
            "/usr/local/lib/python3.10/dist-packages/sklearn/metrics/_classification.py:1344: UndefinedMetricWarning: Precision and F-score are ill-defined and being set to 0.0 in labels with no predicted samples. Use `zero_division` parameter to control this behavior.\n",
            "  _warn_prf(average, modifier, msg_start, len(result))\n",
            "/usr/local/lib/python3.10/dist-packages/sklearn/metrics/_classification.py:1344: UndefinedMetricWarning: Precision and F-score are ill-defined and being set to 0.0 in labels with no predicted samples. Use `zero_division` parameter to control this behavior.\n",
            "  _warn_prf(average, modifier, msg_start, len(result))\n"
          ]
        }
      ]
    },
    {
      "cell_type": "code",
      "source": [
        "#@title undersampling\n",
        "\n",
        "# undersampling\n",
        "undersampler = RandomUnderSampler(random_state=42)\n",
        "df_feat1_us, df_target1_us = undersampler.fit_resample(df_feat, df_target1)\n",
        "\n",
        "X_train, X_test, y_train, y_test = train_test_split(df_feat1_us, df_target1_us, test_size=0.30, random_state=101)\n",
        "\n",
        "model = SVC()\n",
        "# Realizar validación cruzada\n",
        "cv_scores = cross_val_score(model, X_train, y_train, cv=5)\n",
        "\n",
        "print(\"Cross-validation scores:\", cv_scores)\n",
        "print(\"Mean cross-validation score:\", cv_scores.mean())\n",
        "\n",
        "model.fit(X_train,y_train)\n",
        "\n",
        "predictions = model.predict(X_test)\n",
        "\n",
        "print('\\nMatriz de confusión')\n",
        "print(confusion_matrix(y_test,predictions))\n",
        "\n",
        "print('\\nReporte de clasificación')\n",
        "print(classification_report(y_test,predictions))"
      ],
      "metadata": {
        "cellView": "form",
        "colab": {
          "base_uri": "https://localhost:8080/"
        },
        "id": "C6NrRuMzMeMi",
        "outputId": "56c2f5e2-420d-46e0-d591-c17077e3b52a"
      },
      "execution_count": 23,
      "outputs": [
        {
          "output_type": "stream",
          "name": "stdout",
          "text": [
            "Cross-validation scores: [0.47368421 0.52631579 0.36842105 0.63157895 0.52631579]\n",
            "Mean cross-validation score: 0.5052631578947369\n",
            "\n",
            "Matriz de confusión\n",
            "[[ 0 22]\n",
            " [ 0 19]]\n",
            "\n",
            "Reporte de clasificación\n",
            "              precision    recall  f1-score   support\n",
            "\n",
            "           0       0.00      0.00      0.00        22\n",
            "           1       0.46      1.00      0.63        19\n",
            "\n",
            "    accuracy                           0.46        41\n",
            "   macro avg       0.23      0.50      0.32        41\n",
            "weighted avg       0.21      0.46      0.29        41\n",
            "\n"
          ]
        },
        {
          "output_type": "stream",
          "name": "stderr",
          "text": [
            "/usr/local/lib/python3.10/dist-packages/sklearn/metrics/_classification.py:1344: UndefinedMetricWarning: Precision and F-score are ill-defined and being set to 0.0 in labels with no predicted samples. Use `zero_division` parameter to control this behavior.\n",
            "  _warn_prf(average, modifier, msg_start, len(result))\n",
            "/usr/local/lib/python3.10/dist-packages/sklearn/metrics/_classification.py:1344: UndefinedMetricWarning: Precision and F-score are ill-defined and being set to 0.0 in labels with no predicted samples. Use `zero_division` parameter to control this behavior.\n",
            "  _warn_prf(average, modifier, msg_start, len(result))\n",
            "/usr/local/lib/python3.10/dist-packages/sklearn/metrics/_classification.py:1344: UndefinedMetricWarning: Precision and F-score are ill-defined and being set to 0.0 in labels with no predicted samples. Use `zero_division` parameter to control this behavior.\n",
            "  _warn_prf(average, modifier, msg_start, len(result))\n"
          ]
        }
      ]
    },
    {
      "cell_type": "markdown",
      "source": [
        "### carboxylate_target"
      ],
      "metadata": {
        "id": "wNmx7PXgLOCM"
      }
    },
    {
      "cell_type": "code",
      "source": [
        "#@title no stratify, no undersampling\n",
        "X_train, X_test, y_train, y_test = train_test_split(df_feat, df_target2, test_size=0.30, random_state=101)\n",
        "model = SVC()\n",
        "# Realizar validación cruzada\n",
        "cv_scores = cross_val_score(model, X_train, y_train, cv=5)\n",
        "\n",
        "print(\"Cross-validation scores:\", cv_scores)\n",
        "print(\"Mean cross-validation score:\", cv_scores.mean())\n",
        "\n",
        "model.fit(X_train,y_train)\n",
        "\n",
        "predictions = model.predict(X_test)\n",
        "\n",
        "print('\\nMatriz de confusión')\n",
        "print(confusion_matrix(y_test,predictions))\n",
        "\n",
        "print('\\nReporte de clasificación')\n",
        "print(classification_report(y_test,predictions))"
      ],
      "metadata": {
        "colab": {
          "base_uri": "https://localhost:8080/"
        },
        "cellView": "form",
        "outputId": "66b42f78-0e7d-4562-d866-6d2602595896",
        "id": "8k-dkLMEMlVV"
      },
      "execution_count": 24,
      "outputs": [
        {
          "output_type": "stream",
          "name": "stdout",
          "text": [
            "Cross-validation scores: [0.70967742 0.67741935 0.67741935 0.67741935 0.7       ]\n",
            "Mean cross-validation score: 0.6883870967741934\n",
            "\n",
            "Matriz de confusión\n",
            "[[42  0]\n",
            " [25  0]]\n",
            "\n",
            "Reporte de clasificación\n",
            "              precision    recall  f1-score   support\n",
            "\n",
            "           0       0.63      1.00      0.77        42\n",
            "           1       0.00      0.00      0.00        25\n",
            "\n",
            "    accuracy                           0.63        67\n",
            "   macro avg       0.31      0.50      0.39        67\n",
            "weighted avg       0.39      0.63      0.48        67\n",
            "\n"
          ]
        },
        {
          "output_type": "stream",
          "name": "stderr",
          "text": [
            "/usr/local/lib/python3.10/dist-packages/sklearn/metrics/_classification.py:1344: UndefinedMetricWarning: Precision and F-score are ill-defined and being set to 0.0 in labels with no predicted samples. Use `zero_division` parameter to control this behavior.\n",
            "  _warn_prf(average, modifier, msg_start, len(result))\n",
            "/usr/local/lib/python3.10/dist-packages/sklearn/metrics/_classification.py:1344: UndefinedMetricWarning: Precision and F-score are ill-defined and being set to 0.0 in labels with no predicted samples. Use `zero_division` parameter to control this behavior.\n",
            "  _warn_prf(average, modifier, msg_start, len(result))\n",
            "/usr/local/lib/python3.10/dist-packages/sklearn/metrics/_classification.py:1344: UndefinedMetricWarning: Precision and F-score are ill-defined and being set to 0.0 in labels with no predicted samples. Use `zero_division` parameter to control this behavior.\n",
            "  _warn_prf(average, modifier, msg_start, len(result))\n"
          ]
        }
      ]
    },
    {
      "cell_type": "code",
      "source": [
        "#@title stratify\n",
        "X_train, X_test, y_train, y_test = train_test_split(df_feat, df_target2, test_size=0.30, random_state=101,stratify=df_target2)\n",
        "model = SVC()\n",
        "# Realizar validación cruzada\n",
        "cv_scores = cross_val_score(model, X_train, y_train, cv=5)\n",
        "\n",
        "print(\"Cross-validation scores:\", cv_scores)\n",
        "print(\"Mean cross-validation score:\", cv_scores.mean())\n",
        "\n",
        "model.fit(X_train,y_train)\n",
        "\n",
        "predictions = model.predict(X_test)\n",
        "\n",
        "print('\\nMatriz de confusión')\n",
        "print(confusion_matrix(y_test,predictions))\n",
        "\n",
        "print('\\nReporte de clasificación')\n",
        "print(classification_report(y_test,predictions))"
      ],
      "metadata": {
        "colab": {
          "base_uri": "https://localhost:8080/"
        },
        "cellView": "form",
        "outputId": "bd158a9a-5a52-4a0b-ef55-7f2daf10dd04",
        "id": "N_-1sUqWMlVW"
      },
      "execution_count": 25,
      "outputs": [
        {
          "output_type": "stream",
          "name": "stdout",
          "text": [
            "Cross-validation scores: [0.67741935 0.67741935 0.67741935 0.64516129 0.66666667]\n",
            "Mean cross-validation score: 0.6688172043010752\n",
            "\n",
            "Matriz de confusión\n",
            "[[45  0]\n",
            " [22  0]]\n",
            "\n",
            "Reporte de clasificación\n",
            "              precision    recall  f1-score   support\n",
            "\n",
            "           0       0.67      1.00      0.80        45\n",
            "           1       0.00      0.00      0.00        22\n",
            "\n",
            "    accuracy                           0.67        67\n",
            "   macro avg       0.34      0.50      0.40        67\n",
            "weighted avg       0.45      0.67      0.54        67\n",
            "\n"
          ]
        },
        {
          "output_type": "stream",
          "name": "stderr",
          "text": [
            "/usr/local/lib/python3.10/dist-packages/sklearn/metrics/_classification.py:1344: UndefinedMetricWarning: Precision and F-score are ill-defined and being set to 0.0 in labels with no predicted samples. Use `zero_division` parameter to control this behavior.\n",
            "  _warn_prf(average, modifier, msg_start, len(result))\n",
            "/usr/local/lib/python3.10/dist-packages/sklearn/metrics/_classification.py:1344: UndefinedMetricWarning: Precision and F-score are ill-defined and being set to 0.0 in labels with no predicted samples. Use `zero_division` parameter to control this behavior.\n",
            "  _warn_prf(average, modifier, msg_start, len(result))\n",
            "/usr/local/lib/python3.10/dist-packages/sklearn/metrics/_classification.py:1344: UndefinedMetricWarning: Precision and F-score are ill-defined and being set to 0.0 in labels with no predicted samples. Use `zero_division` parameter to control this behavior.\n",
            "  _warn_prf(average, modifier, msg_start, len(result))\n"
          ]
        }
      ]
    },
    {
      "cell_type": "code",
      "source": [
        "#@title undersampling\n",
        "\n",
        "# undersampling\n",
        "undersampler = RandomUnderSampler(random_state=42)\n",
        "df_feat2_us, df_target2_us = undersampler.fit_resample(df_feat, df_target2)\n",
        "\n",
        "X_train, X_test, y_train, y_test = train_test_split(df_feat2_us, df_target2_us, test_size=0.30, random_state=101)\n",
        "\n",
        "model = SVC()\n",
        "# Realizar validación cruzada\n",
        "cv_scores = cross_val_score(model, X_train, y_train, cv=5)\n",
        "\n",
        "print(\"Cross-validation scores:\", cv_scores)\n",
        "print(\"Mean cross-validation score:\", cv_scores.mean())\n",
        "\n",
        "model.fit(X_train,y_train)\n",
        "\n",
        "predictions = model.predict(X_test)\n",
        "\n",
        "print('\\nMatriz de confusión')\n",
        "print(confusion_matrix(y_test,predictions))\n",
        "\n",
        "print('\\nReporte de clasificación')\n",
        "print(classification_report(y_test,predictions))"
      ],
      "metadata": {
        "cellView": "form",
        "colab": {
          "base_uri": "https://localhost:8080/"
        },
        "id": "Vf7x_2fcMlVW",
        "outputId": "e27d144a-b1d6-4c21-bb09-8c4a34e769f0"
      },
      "execution_count": 26,
      "outputs": [
        {
          "output_type": "stream",
          "name": "stdout",
          "text": [
            "Cross-validation scores: [0.66666667 0.66666667 0.5        0.6        0.65      ]\n",
            "Mean cross-validation score: 0.6166666666666666\n",
            "\n",
            "Matriz de confusión\n",
            "[[17  4]\n",
            " [17  6]]\n",
            "\n",
            "Reporte de clasificación\n",
            "              precision    recall  f1-score   support\n",
            "\n",
            "           0       0.50      0.81      0.62        21\n",
            "           1       0.60      0.26      0.36        23\n",
            "\n",
            "    accuracy                           0.52        44\n",
            "   macro avg       0.55      0.54      0.49        44\n",
            "weighted avg       0.55      0.52      0.49        44\n",
            "\n"
          ]
        }
      ]
    },
    {
      "cell_type": "markdown",
      "source": [
        "## Resultados"
      ],
      "metadata": {
        "id": "75r-lZJcTnsa"
      }
    },
    {
      "cell_type": "code",
      "source": [
        "#@title Ploteo de accuracy\n",
        "acc=[[69,73,63],[69,69,67],[53,46,52]]\n",
        "columns = ['all data', 'stratified', 'downsampled']\n",
        "categories = ['hydroxamate', 'catecholate', 'carboxylate']\n",
        "\n",
        "# Plotting\n",
        "fig, ax = plt.subplots(figsize=(10, 6))\n",
        "\n",
        "# Iterate through each model's accuracy values\n",
        "for i, model_acc in enumerate(acc):\n",
        "    x = [c + i * 0.3 for c in range(len(categories))]  # Adjust the bar positions for each model\n",
        "    bars = ax.bar(x, model_acc, width=0.3, label=columns[i])\n",
        "    for bar in bars:\n",
        "      height = bar.get_height()\n",
        "      ax.annotate(f'{height}%',\n",
        "        xy=(bar.get_x() + bar.get_width() / 2, height),\n",
        "        xytext=(0, 3),  # 3 points vertical offset\n",
        "        textcoords=\"offset points\",\n",
        "        ha='center', va='bottom')\n",
        "\n",
        "# Set labels and title\n",
        "ax.set_xlabel('Grupos quelantes')\n",
        "ax.set_ylabel('Accuracy (%)')\n",
        "ax.set_title('Accuracy')\n",
        "ax.set_xticks([c + 0.3 for c in range(len(categories))])\n",
        "ax.set_xticklabels(categories)\n",
        "ax.legend()\n",
        "ax.set_ylim(40, 80)\n",
        "\n",
        "# Show plot\n",
        "plt.tight_layout()\n",
        "plt.show()"
      ],
      "metadata": {
        "colab": {
          "base_uri": "https://localhost:8080/",
          "height": 607
        },
        "cellView": "form",
        "id": "BrdqurOmTrS_",
        "outputId": "b5c46f6d-5784-459e-c1be-30bab58221ce"
      },
      "execution_count": 27,
      "outputs": [
        {
          "output_type": "display_data",
          "data": {
            "text/plain": [
              "<Figure size 1000x600 with 1 Axes>"
            ],
            "image/png": "[encoded data removed]"
          },
          "metadata": {}
        }
      ]
    },
    {
      "cell_type": "markdown",
      "source": [
        "En la sección anterior se puede apreciar la matriz de confusión y reporte de clasificación para cada caso. El accuracy obtenido se muestra en el gráfico."
      ],
      "metadata": {
        "id": "shCZGlJHa3Dl"
      }
    },
    {
      "cell_type": "markdown",
      "source": [
        "# Discusiones"
      ],
      "metadata": {
        "id": "KvY6YrX-S2Km"
      }
    },
    {
      "cell_type": "markdown",
      "source": [
        "En este caso, se obtuvo resultados mucho menores al realizar un downsampling. Esto se debe a que al reducir el número de samples, el dataset resulta siendo demasiado corto para el entrenamiento correcto de la SVM. El efecto de la estratificación para la división de data de entrenamiento y test no es consistente en los casos evaluados.\n",
        "\n",
        "En este caso, se está evaluando principalmente el accuracy, mientras que la precisión no. Esto se debe a que se está evaluando la presencia o ausencia de grupos y es importante considerar los true positives y true negatives."
      ],
      "metadata": {
        "id": "7nmtpT7vS3sW"
      }
    },
    {
      "cell_type": "markdown",
      "source": [
        "# Conclusiones"
      ],
      "metadata": {
        "id": "6EljWdZ8S48V"
      }
    },
    {
      "cell_type": "markdown",
      "source": [
        "Para las seeds seleccionadas se obtuvo valores de hasta 59%, 73% y 67% de accuracy para la predicción de la presencia de los grupos hidroxamato, catecolato y carboxilato. Debido al tamaño del dataset, en este caso no es recomendado el uso de técnicas de downsampling."
      ],
      "metadata": {
        "id": "e-j02AklS6ql"
      }
    },
    {
      "cell_type": "markdown",
      "source": [
        "## Referencias"
      ],
      "metadata": {
        "id": "59BHlvr8ft3h"
      }
    },
    {
      "cell_type": "markdown",
      "source": [
        "[1] Byvatov E, Schneider G. Support vector machine applications in bioinformatics. Applied Bioinformatics. 2003 ;2(2):67-77. PMID: 15130823."
      ],
      "metadata": {
        "id": "7d4uewXsfveg"
      }
    }
  ],
  "metadata": {
    "kernelspec": {
      "display_name": "Python 3",
      "language": "python",
      "name": "python3"
    },
    "language_info": {
      "codemirror_mode": {
        "name": "ipython",
        "version": 3
      },
      "file_extension": ".py",
      "mimetype": "text/x-python",
      "name": "python",
      "nbconvert_exporter": "python",
      "pygments_lexer": "ipython3",
      "version": "3.11.4"
    },
    "colab": {
      "provenance": [],
      "toc_visible": true
    }
  },
  "nbformat": 4,
  "nbformat_minor": 0
}