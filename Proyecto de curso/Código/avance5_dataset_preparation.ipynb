{
  "cells": [
    {
      "cell_type": "markdown",
      "metadata": {
        "id": "IgcsIhtFogcx"
      },
      "source": [
        "# Dataset preparation for CAP classification \n",
        "- Authors - Shruti Murarka, Aditya Wadichar"
      ]
    },
    {
      "cell_type": "markdown",
      "metadata": {
        "id": "JxDX-HiRUyGf"
      },
      "source": [
        "# Read"
      ]
    },
    {
      "cell_type": "code",
      "execution_count": 1,
      "metadata": {
        "id": "GXvYv4-hTKAy"
      },
      "outputs": [],
      "source": [
        "import scipy.io\n",
        "import numpy as np"
      ]
    },
    {
      "cell_type": "code",
      "execution_count": 3,
      "metadata": {
        "colab": {
          "base_uri": "https://localhost:8080/"
        },
        "id": "bCzRxD-mbl01",
        "outputId": "fcf06fbf-411b-4d09-ae8f-5d05ad040a90"
      },
      "outputs": [],
      "source": [
        "from os import listdir\n",
        "\n",
        "fnames = [i for i in listdir(\"DATA_seconds\")]"
      ]
    },
    {
      "cell_type": "code",
      "execution_count": 4,
      "metadata": {},
      "outputs": [],
      "source": [
        "path = \"DATA_seconds/\" + fnames[0]\n",
        "temp = scipy.io.loadmat(path)\n",
        "fs=int(temp['Fs'])\n",
        "sec=30"
      ]
    },
    {
      "cell_type": "code",
      "execution_count": 5,
      "metadata": {},
      "outputs": [],
      "source": [
        "x=np.zeros((1,fs*sec))\n",
        "y=np.array(['del'])\n",
        "for f in fnames:\n",
        "    path = \"DATA_seconds/\" + f\n",
        "    temp = scipy.io.loadmat(path)\n",
        "    data=temp['Data_secs']\n",
        "    x=np.append(x,data,axis=0)\n",
        "    y=np.append(y,np.repeat(f[:3],len(data)))\n",
        "x=np.delete(x,0,0)\n",
        "y=np.delete(y,0,0)"
      ]
    },
    {
      "cell_type": "code",
      "execution_count": 6,
      "metadata": {},
      "outputs": [],
      "source": [
        "# np.savez('DATA_seconds_tot', x=x, y=y)"
      ]
    },
    {
      "cell_type": "markdown",
      "metadata": {},
      "source": [
        "# Balance"
      ]
    },
    {
      "cell_type": "code",
      "execution_count": 1,
      "metadata": {},
      "outputs": [],
      "source": [
        "import numpy as np"
      ]
    },
    {
      "cell_type": "code",
      "execution_count": 2,
      "metadata": {},
      "outputs": [],
      "source": [
        "arrays=np.load('DATA_seconds_tot.npz')\n",
        "x=arrays['x']\n",
        "y=arrays['y']"
      ]
    },
    {
      "cell_type": "code",
      "execution_count": 3,
      "metadata": {},
      "outputs": [
        {
          "name": "stdout",
          "output_type": "stream",
          "text": [
            "Counter({'nfl': 26685, 'rbd': 20601, 'plm': 7297, 'ins': 5596, 'nar': 5307, 'nor': 4692, 'bru': 1007, 'sdb': 780})\n"
          ]
        }
      ],
      "source": [
        "from collections import Counter\n",
        "print(Counter(y))"
      ]
    },
    {
      "cell_type": "code",
      "execution_count": 10,
      "metadata": {},
      "outputs": [
        {
          "name": "stdout",
          "output_type": "stream",
          "text": [
            "9084\n"
          ]
        }
      ],
      "source": [
        "mask = (y=='bru') + (y=='plm') + (y=='sdb')\n",
        "print(np.sum(mask))"
      ]
    },
    {
      "cell_type": "code",
      "execution_count": 11,
      "metadata": {},
      "outputs": [
        {
          "name": "stdout",
          "output_type": "stream",
          "text": [
            "Counter({'bru': 780, 'plm': 780, 'sdb': 780})\n"
          ]
        }
      ],
      "source": [
        "from imblearn.under_sampling import RandomUnderSampler\n",
        "\n",
        "# Reshape x for undersampling\n",
        "rus = RandomUnderSampler(random_state=42)\n",
        "x_resampled, y_resampled = rus.fit_resample(x[mask], y[mask])\n",
        "print(Counter(y_resampled))"
      ]
    },
    {
      "cell_type": "code",
      "execution_count": 12,
      "metadata": {},
      "outputs": [],
      "source": [
        "from sklearn.preprocessing import LabelEncoder\n",
        "from keras.utils import to_categorical\n",
        "\n",
        "# Encode the string labels to integers\n",
        "label_encoder = LabelEncoder()\n",
        "y_encoded = label_encoder.fit_transform(y_resampled)\n",
        "\n",
        "# One-hot encode the integer labels\n",
        "y_encoded = to_categorical(y_encoded)\n",
        "classes=label_encoder.classes_\n"
      ]
    },
    {
      "cell_type": "code",
      "execution_count": 13,
      "metadata": {},
      "outputs": [],
      "source": [
        "from sklearn.model_selection import train_test_split\n",
        "\n",
        "x_train, x_test, y_train, y_test = train_test_split(x_resampled, y_encoded, test_size=0.2, random_state=42, stratify=y_resampled)\n"
      ]
    },
    {
      "cell_type": "code",
      "execution_count": 14,
      "metadata": {},
      "outputs": [],
      "source": [
        "import pickle\n",
        "with open('D:/Users/USER/gits/patronesproyecto/DATA_seconds_bal_xy_tt.pkl', 'wb') as f:\n",
        "    pickle.dump([x_train, x_test, y_train, y_test,classes], f)"
      ]
    }
  ],
  "metadata": {
    "colab": {
      "collapsed_sections": [],
      "name": "Dataset preparation CAP phases.ipynb",
      "provenance": [],
      "toc_visible": true
    },
    "kernelspec": {
      "display_name": "Python 3",
      "name": "python3"
    },
    "language_info": {
      "codemirror_mode": {
        "name": "ipython",
        "version": 3
      },
      "file_extension": ".py",
      "mimetype": "text/x-python",
      "name": "python",
      "nbconvert_exporter": "python",
      "pygments_lexer": "ipython3",
      "version": "3.11.4"
    }
  },
  "nbformat": 4,
  "nbformat_minor": 0
}
